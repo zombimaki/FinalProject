{
 "metadata": {
  "language_info": {
   "codemirror_mode": {
    "name": "ipython",
    "version": 3
   },
   "file_extension": ".py",
   "mimetype": "text/x-python",
   "name": "python",
   "nbconvert_exporter": "python",
   "pygments_lexer": "ipython3",
   "version": "3.6.12-final"
  },
  "orig_nbformat": 2,
  "kernelspec": {
   "name": "python3",
   "display_name": "Python 3.6.12 64-bit ('PythonAdv': conda)",
   "metadata": {
    "interpreter": {
     "hash": "c9229c4222e9c2e882056fbfcc28508861c090f803a6fe3417bc998051bd922e"
    }
   }
  }
 },
 "nbformat": 4,
 "nbformat_minor": 2,
 "cells": [
  {
   "cell_type": "code",
   "execution_count": 1,
   "metadata": {},
   "outputs": [],
   "source": [
    "import pandas as pd\n",
    "import numpy as np\n",
    "import matplotlib.pyplot as plt\n",
    "\n",
    "from sklearn.naive_bayes import MultinomialNB\n",
    "from sklearn.model_selection import train_test_split\n",
    "from sklearn.feature_extraction.text import CountVectorizer\n",
    "from sklearn.preprocessing import LabelEncoder, MinMaxScaler, StandardScaler\n",
    "from sklearn.metrics import classification_report\n",
    "\n",
    "import tensorflow\n",
    "tensorflow.keras.__version__\n",
    "from tensorflow.keras.utils import to_categorical\n",
    "from tensorflow.keras.models import Sequential\n",
    "from tensorflow.keras.layers import Dense"
   ]
  },
  {
   "cell_type": "code",
   "execution_count": 2,
   "metadata": {},
   "outputs": [
    {
     "output_type": "stream",
     "name": "stderr",
     "text": [
      "C:\\Users\\hasse\\anaconda3\\envs\\PythonAdv\\lib\\site-packages\\IPython\\core\\interactiveshell.py:3072: DtypeWarning: Columns (2) have mixed types.Specify dtype option on import or set low_memory=False.\n  interactivity=interactivity, compiler=compiler, result=result)\n"
     ]
    },
    {
     "output_type": "execute_result",
     "data": {
      "text/plain": [
       "          publicAddress    caseNumber precinct offense           description  \\\n",
       "0   0056Xx Lyndale Av S  MP2010000051        5    CSCR    Crim Sex Cond-Rape   \n",
       "1        0001Xx 62 St W  MP2010000099        5  ROBPAG       Robbery Per Agg   \n",
       "2         0039Xx 5 Av S  MP2010000373        3   BURGD  Burglary Of Dwelling   \n",
       "3  0013Xx Nicollet Av S  MP2010000305        1   ASLT2  Asslt W/Dngrs Weapon   \n",
       "4    0034Xx Oliver Av N  MP2010000229        4   BURGD  Burglary Of Dwelling   \n",
       "\n",
       "   ucrCode        lat        lon neighborhood incidentDate incidentTime  \n",
       "0      3.0  44.900291 -93.288239       Windom   2010/01/01        00:30  \n",
       "1      4.0  44.890636 -93.280041       Windom   2010/01/01        01:05  \n",
       "2      6.0  44.931448 -93.268841       Bryant   2010/01/01        04:18  \n",
       "3      5.0  44.970506 -93.277714  Loring Park   2010/01/01        03:00  \n",
       "4      6.0  45.017746 -93.306988      Folwell   2010/01/01        02:23  "
      ],
      "text/html": "<div>\n<style scoped>\n    .dataframe tbody tr th:only-of-type {\n        vertical-align: middle;\n    }\n\n    .dataframe tbody tr th {\n        vertical-align: top;\n    }\n\n    .dataframe thead th {\n        text-align: right;\n    }\n</style>\n<table border=\"1\" class=\"dataframe\">\n  <thead>\n    <tr style=\"text-align: right;\">\n      <th></th>\n      <th>publicAddress</th>\n      <th>caseNumber</th>\n      <th>precinct</th>\n      <th>offense</th>\n      <th>description</th>\n      <th>ucrCode</th>\n      <th>lat</th>\n      <th>lon</th>\n      <th>neighborhood</th>\n      <th>incidentDate</th>\n      <th>incidentTime</th>\n    </tr>\n  </thead>\n  <tbody>\n    <tr>\n      <th>0</th>\n      <td>0056Xx Lyndale Av S</td>\n      <td>MP2010000051</td>\n      <td>5</td>\n      <td>CSCR</td>\n      <td>Crim Sex Cond-Rape</td>\n      <td>3.0</td>\n      <td>44.900291</td>\n      <td>-93.288239</td>\n      <td>Windom</td>\n      <td>2010/01/01</td>\n      <td>00:30</td>\n    </tr>\n    <tr>\n      <th>1</th>\n      <td>0001Xx 62 St W</td>\n      <td>MP2010000099</td>\n      <td>5</td>\n      <td>ROBPAG</td>\n      <td>Robbery Per Agg</td>\n      <td>4.0</td>\n      <td>44.890636</td>\n      <td>-93.280041</td>\n      <td>Windom</td>\n      <td>2010/01/01</td>\n      <td>01:05</td>\n    </tr>\n    <tr>\n      <th>2</th>\n      <td>0039Xx 5 Av S</td>\n      <td>MP2010000373</td>\n      <td>3</td>\n      <td>BURGD</td>\n      <td>Burglary Of Dwelling</td>\n      <td>6.0</td>\n      <td>44.931448</td>\n      <td>-93.268841</td>\n      <td>Bryant</td>\n      <td>2010/01/01</td>\n      <td>04:18</td>\n    </tr>\n    <tr>\n      <th>3</th>\n      <td>0013Xx Nicollet Av S</td>\n      <td>MP2010000305</td>\n      <td>1</td>\n      <td>ASLT2</td>\n      <td>Asslt W/Dngrs Weapon</td>\n      <td>5.0</td>\n      <td>44.970506</td>\n      <td>-93.277714</td>\n      <td>Loring Park</td>\n      <td>2010/01/01</td>\n      <td>03:00</td>\n    </tr>\n    <tr>\n      <th>4</th>\n      <td>0034Xx Oliver Av N</td>\n      <td>MP2010000229</td>\n      <td>4</td>\n      <td>BURGD</td>\n      <td>Burglary Of Dwelling</td>\n      <td>6.0</td>\n      <td>45.017746</td>\n      <td>-93.306988</td>\n      <td>Folwell</td>\n      <td>2010/01/01</td>\n      <td>02:23</td>\n    </tr>\n  </tbody>\n</table>\n</div>"
     },
     "metadata": {},
     "execution_count": 2
    }
   ],
   "source": [
    "incidents = pd.read_csv(\"../incident_data/yearly_incident_data/all_incidents.csv\")\n",
    "incidents = incidents.dropna()\n",
    "incidents.head()"
   ]
  },
  {
   "cell_type": "code",
   "execution_count": 3,
   "metadata": {},
   "outputs": [
    {
     "output_type": "execute_result",
     "data": {
      "text/plain": [
       "          publicAddress    caseNumber precinct offense           description  \\\n",
       "0   0056Xx Lyndale Av S  MP2010000051        5    CSCR    Crim Sex Cond-Rape   \n",
       "1        0001Xx 62 St W  MP2010000099        5  ROBPAG       Robbery Per Agg   \n",
       "2         0039Xx 5 Av S  MP2010000373        3   BURGD  Burglary Of Dwelling   \n",
       "3  0013Xx Nicollet Av S  MP2010000305        1   ASLT2  Asslt W/Dngrs Weapon   \n",
       "4    0034Xx Oliver Av N  MP2010000229        4   BURGD  Burglary Of Dwelling   \n",
       "\n",
       "   ucrCode        lat        lon neighborhood incidentDate incidentTime  \\\n",
       "0      3.0  44.900291 -93.288239       Windom   2010-01-01        00:30   \n",
       "1      4.0  44.890636 -93.280041       Windom   2010-01-01        01:05   \n",
       "2      6.0  44.931448 -93.268841       Bryant   2010-01-01        04:18   \n",
       "3      5.0  44.970506 -93.277714  Loring Park   2010-01-01        03:00   \n",
       "4      6.0  45.017746 -93.306988      Folwell   2010-01-01        02:23   \n",
       "\n",
       "   month  weekday  day  \n",
       "0      1        4    1  \n",
       "1      1        4    1  \n",
       "2      1        4    1  \n",
       "3      1        4    1  \n",
       "4      1        4    1  "
      ],
      "text/html": "<div>\n<style scoped>\n    .dataframe tbody tr th:only-of-type {\n        vertical-align: middle;\n    }\n\n    .dataframe tbody tr th {\n        vertical-align: top;\n    }\n\n    .dataframe thead th {\n        text-align: right;\n    }\n</style>\n<table border=\"1\" class=\"dataframe\">\n  <thead>\n    <tr style=\"text-align: right;\">\n      <th></th>\n      <th>publicAddress</th>\n      <th>caseNumber</th>\n      <th>precinct</th>\n      <th>offense</th>\n      <th>description</th>\n      <th>ucrCode</th>\n      <th>lat</th>\n      <th>lon</th>\n      <th>neighborhood</th>\n      <th>incidentDate</th>\n      <th>incidentTime</th>\n      <th>month</th>\n      <th>weekday</th>\n      <th>day</th>\n    </tr>\n  </thead>\n  <tbody>\n    <tr>\n      <th>0</th>\n      <td>0056Xx Lyndale Av S</td>\n      <td>MP2010000051</td>\n      <td>5</td>\n      <td>CSCR</td>\n      <td>Crim Sex Cond-Rape</td>\n      <td>3.0</td>\n      <td>44.900291</td>\n      <td>-93.288239</td>\n      <td>Windom</td>\n      <td>2010-01-01</td>\n      <td>00:30</td>\n      <td>1</td>\n      <td>4</td>\n      <td>1</td>\n    </tr>\n    <tr>\n      <th>1</th>\n      <td>0001Xx 62 St W</td>\n      <td>MP2010000099</td>\n      <td>5</td>\n      <td>ROBPAG</td>\n      <td>Robbery Per Agg</td>\n      <td>4.0</td>\n      <td>44.890636</td>\n      <td>-93.280041</td>\n      <td>Windom</td>\n      <td>2010-01-01</td>\n      <td>01:05</td>\n      <td>1</td>\n      <td>4</td>\n      <td>1</td>\n    </tr>\n    <tr>\n      <th>2</th>\n      <td>0039Xx 5 Av S</td>\n      <td>MP2010000373</td>\n      <td>3</td>\n      <td>BURGD</td>\n      <td>Burglary Of Dwelling</td>\n      <td>6.0</td>\n      <td>44.931448</td>\n      <td>-93.268841</td>\n      <td>Bryant</td>\n      <td>2010-01-01</td>\n      <td>04:18</td>\n      <td>1</td>\n      <td>4</td>\n      <td>1</td>\n    </tr>\n    <tr>\n      <th>3</th>\n      <td>0013Xx Nicollet Av S</td>\n      <td>MP2010000305</td>\n      <td>1</td>\n      <td>ASLT2</td>\n      <td>Asslt W/Dngrs Weapon</td>\n      <td>5.0</td>\n      <td>44.970506</td>\n      <td>-93.277714</td>\n      <td>Loring Park</td>\n      <td>2010-01-01</td>\n      <td>03:00</td>\n      <td>1</td>\n      <td>4</td>\n      <td>1</td>\n    </tr>\n    <tr>\n      <th>4</th>\n      <td>0034Xx Oliver Av N</td>\n      <td>MP2010000229</td>\n      <td>4</td>\n      <td>BURGD</td>\n      <td>Burglary Of Dwelling</td>\n      <td>6.0</td>\n      <td>45.017746</td>\n      <td>-93.306988</td>\n      <td>Folwell</td>\n      <td>2010-01-01</td>\n      <td>02:23</td>\n      <td>1</td>\n      <td>4</td>\n      <td>1</td>\n    </tr>\n  </tbody>\n</table>\n</div>"
     },
     "metadata": {},
     "execution_count": 3
    }
   ],
   "source": [
    "incidents['incidentDate'] = pd.to_datetime(incidents['incidentDate'], format='%Y/%m/%d')\n",
    "incidents['month']= incidents['incidentDate'].dt.month \n",
    "incidents['weekday'] =  incidents['incidentDate'].dt.dayofweek\n",
    "incidents['day'] =  incidents['incidentDate'].dt.day\n",
    "incidents.head()"
   ]
  },
  {
   "cell_type": "code",
   "execution_count": 4,
   "metadata": {},
   "outputs": [
    {
     "output_type": "execute_result",
     "data": {
      "text/plain": [
       "          publicAddress    caseNumber precinct offense           description  \\\n",
       "0   0056Xx Lyndale Av S  MP2010000051        5    CSCR    Crim Sex Cond-Rape   \n",
       "1        0001Xx 62 St W  MP2010000099        5  ROBPAG       Robbery Per Agg   \n",
       "2         0039Xx 5 Av S  MP2010000373        3   BURGD  Burglary Of Dwelling   \n",
       "3  0013Xx Nicollet Av S  MP2010000305        1   ASLT2  Asslt W/Dngrs Weapon   \n",
       "4    0034Xx Oliver Av N  MP2010000229        4   BURGD  Burglary Of Dwelling   \n",
       "\n",
       "   ucrCode        lat        lon incidentDate incidentTime  ...  \\\n",
       "0      3.0  44.900291 -93.288239   2010-01-01        00:30  ...   \n",
       "1      4.0  44.890636 -93.280041   2010-01-01        01:05  ...   \n",
       "2      6.0  44.931448 -93.268841   2010-01-01        04:18  ...   \n",
       "3      5.0  44.970506 -93.277714   2010-01-01        03:00  ...   \n",
       "4      6.0  45.017746 -93.306988   2010-01-01        02:23  ...   \n",
       "\n",
       "   Ventura Village  Victory  Waite Park  Webber - Camden  Wenonah  \\\n",
       "0                0        0           0                0        0   \n",
       "1                0        0           0                0        0   \n",
       "2                0        0           0                0        0   \n",
       "3                0        0           0                0        0   \n",
       "4                0        0           0                0        0   \n",
       "\n",
       "   West Calhoun  Whittier  Willard - Hay  Windom  Windom Park  \n",
       "0             0         0              0       1            0  \n",
       "1             0         0              0       1            0  \n",
       "2             0         0              0       0            0  \n",
       "3             0         0              0       0            0  \n",
       "4             0         0              0       0            0  \n",
       "\n",
       "[5 rows x 101 columns]"
      ],
      "text/html": "<div>\n<style scoped>\n    .dataframe tbody tr th:only-of-type {\n        vertical-align: middle;\n    }\n\n    .dataframe tbody tr th {\n        vertical-align: top;\n    }\n\n    .dataframe thead th {\n        text-align: right;\n    }\n</style>\n<table border=\"1\" class=\"dataframe\">\n  <thead>\n    <tr style=\"text-align: right;\">\n      <th></th>\n      <th>publicAddress</th>\n      <th>caseNumber</th>\n      <th>precinct</th>\n      <th>offense</th>\n      <th>description</th>\n      <th>ucrCode</th>\n      <th>lat</th>\n      <th>lon</th>\n      <th>incidentDate</th>\n      <th>incidentTime</th>\n      <th>...</th>\n      <th>Ventura Village</th>\n      <th>Victory</th>\n      <th>Waite Park</th>\n      <th>Webber - Camden</th>\n      <th>Wenonah</th>\n      <th>West Calhoun</th>\n      <th>Whittier</th>\n      <th>Willard - Hay</th>\n      <th>Windom</th>\n      <th>Windom Park</th>\n    </tr>\n  </thead>\n  <tbody>\n    <tr>\n      <th>0</th>\n      <td>0056Xx Lyndale Av S</td>\n      <td>MP2010000051</td>\n      <td>5</td>\n      <td>CSCR</td>\n      <td>Crim Sex Cond-Rape</td>\n      <td>3.0</td>\n      <td>44.900291</td>\n      <td>-93.288239</td>\n      <td>2010-01-01</td>\n      <td>00:30</td>\n      <td>...</td>\n      <td>0</td>\n      <td>0</td>\n      <td>0</td>\n      <td>0</td>\n      <td>0</td>\n      <td>0</td>\n      <td>0</td>\n      <td>0</td>\n      <td>1</td>\n      <td>0</td>\n    </tr>\n    <tr>\n      <th>1</th>\n      <td>0001Xx 62 St W</td>\n      <td>MP2010000099</td>\n      <td>5</td>\n      <td>ROBPAG</td>\n      <td>Robbery Per Agg</td>\n      <td>4.0</td>\n      <td>44.890636</td>\n      <td>-93.280041</td>\n      <td>2010-01-01</td>\n      <td>01:05</td>\n      <td>...</td>\n      <td>0</td>\n      <td>0</td>\n      <td>0</td>\n      <td>0</td>\n      <td>0</td>\n      <td>0</td>\n      <td>0</td>\n      <td>0</td>\n      <td>1</td>\n      <td>0</td>\n    </tr>\n    <tr>\n      <th>2</th>\n      <td>0039Xx 5 Av S</td>\n      <td>MP2010000373</td>\n      <td>3</td>\n      <td>BURGD</td>\n      <td>Burglary Of Dwelling</td>\n      <td>6.0</td>\n      <td>44.931448</td>\n      <td>-93.268841</td>\n      <td>2010-01-01</td>\n      <td>04:18</td>\n      <td>...</td>\n      <td>0</td>\n      <td>0</td>\n      <td>0</td>\n      <td>0</td>\n      <td>0</td>\n      <td>0</td>\n      <td>0</td>\n      <td>0</td>\n      <td>0</td>\n      <td>0</td>\n    </tr>\n    <tr>\n      <th>3</th>\n      <td>0013Xx Nicollet Av S</td>\n      <td>MP2010000305</td>\n      <td>1</td>\n      <td>ASLT2</td>\n      <td>Asslt W/Dngrs Weapon</td>\n      <td>5.0</td>\n      <td>44.970506</td>\n      <td>-93.277714</td>\n      <td>2010-01-01</td>\n      <td>03:00</td>\n      <td>...</td>\n      <td>0</td>\n      <td>0</td>\n      <td>0</td>\n      <td>0</td>\n      <td>0</td>\n      <td>0</td>\n      <td>0</td>\n      <td>0</td>\n      <td>0</td>\n      <td>0</td>\n    </tr>\n    <tr>\n      <th>4</th>\n      <td>0034Xx Oliver Av N</td>\n      <td>MP2010000229</td>\n      <td>4</td>\n      <td>BURGD</td>\n      <td>Burglary Of Dwelling</td>\n      <td>6.0</td>\n      <td>45.017746</td>\n      <td>-93.306988</td>\n      <td>2010-01-01</td>\n      <td>02:23</td>\n      <td>...</td>\n      <td>0</td>\n      <td>0</td>\n      <td>0</td>\n      <td>0</td>\n      <td>0</td>\n      <td>0</td>\n      <td>0</td>\n      <td>0</td>\n      <td>0</td>\n      <td>0</td>\n    </tr>\n  </tbody>\n</table>\n<p>5 rows × 101 columns</p>\n</div>"
     },
     "metadata": {},
     "execution_count": 4
    }
   ],
   "source": [
    "# One hot encode the neighborhoods\n",
    "one_hot = pd.get_dummies(incidents['neighborhood'])\n",
    "incidents = incidents.drop('neighborhood', axis=1)\n",
    "incidents =incidents.join(one_hot)\n",
    "incidents.head()"
   ]
  },
  {
   "cell_type": "code",
   "execution_count": 5,
   "metadata": {},
   "outputs": [
    {
     "output_type": "execute_result",
     "data": {
      "text/plain": [
       "          publicAddress    caseNumber precinct           description  ucrCode  \\\n",
       "0   0056Xx Lyndale Av S  MP2010000051        5    Crim Sex Cond-Rape      3.0   \n",
       "1        0001Xx 62 St W  MP2010000099        5       Robbery Per Agg      4.0   \n",
       "2         0039Xx 5 Av S  MP2010000373        3  Burglary Of Dwelling      6.0   \n",
       "3  0013Xx Nicollet Av S  MP2010000305        1  Asslt W/Dngrs Weapon      5.0   \n",
       "4    0034Xx Oliver Av N  MP2010000229        4  Burglary Of Dwelling      6.0   \n",
       "\n",
       "         lat        lon incidentDate incidentTime  month  ...  TFMV  TFMV      \\\n",
       "0  44.900291 -93.288239   2010-01-01        00:30      1  ...     0         0   \n",
       "1  44.890636 -93.280041   2010-01-01        01:05      1  ...     0         0   \n",
       "2  44.931448 -93.268841   2010-01-01        04:18      1  ...     0         0   \n",
       "3  44.970506 -93.277714   2010-01-01        03:00      1  ...     0         0   \n",
       "4  45.017746 -93.306988   2010-01-01        02:23      1  ...     0         0   \n",
       "\n",
       "   TFPER  TFPER     THEFT  THEFT     THFTSW  THFTSW    TMVP  TMVP      \n",
       "0      0         0      0         0       0         0     0         0  \n",
       "1      0         0      0         0       0         0     0         0  \n",
       "2      0         0      0         0       0         0     0         0  \n",
       "3      0         0      0         0       0         0     0         0  \n",
       "4      0         0      0         0       0         0     0         0  \n",
       "\n",
       "[5 rows x 170 columns]"
      ],
      "text/html": "<div>\n<style scoped>\n    .dataframe tbody tr th:only-of-type {\n        vertical-align: middle;\n    }\n\n    .dataframe tbody tr th {\n        vertical-align: top;\n    }\n\n    .dataframe thead th {\n        text-align: right;\n    }\n</style>\n<table border=\"1\" class=\"dataframe\">\n  <thead>\n    <tr style=\"text-align: right;\">\n      <th></th>\n      <th>publicAddress</th>\n      <th>caseNumber</th>\n      <th>precinct</th>\n      <th>description</th>\n      <th>ucrCode</th>\n      <th>lat</th>\n      <th>lon</th>\n      <th>incidentDate</th>\n      <th>incidentTime</th>\n      <th>month</th>\n      <th>...</th>\n      <th>TFMV</th>\n      <th>TFMV</th>\n      <th>TFPER</th>\n      <th>TFPER</th>\n      <th>THEFT</th>\n      <th>THEFT</th>\n      <th>THFTSW</th>\n      <th>THFTSW</th>\n      <th>TMVP</th>\n      <th>TMVP</th>\n    </tr>\n  </thead>\n  <tbody>\n    <tr>\n      <th>0</th>\n      <td>0056Xx Lyndale Av S</td>\n      <td>MP2010000051</td>\n      <td>5</td>\n      <td>Crim Sex Cond-Rape</td>\n      <td>3.0</td>\n      <td>44.900291</td>\n      <td>-93.288239</td>\n      <td>2010-01-01</td>\n      <td>00:30</td>\n      <td>1</td>\n      <td>...</td>\n      <td>0</td>\n      <td>0</td>\n      <td>0</td>\n      <td>0</td>\n      <td>0</td>\n      <td>0</td>\n      <td>0</td>\n      <td>0</td>\n      <td>0</td>\n      <td>0</td>\n    </tr>\n    <tr>\n      <th>1</th>\n      <td>0001Xx 62 St W</td>\n      <td>MP2010000099</td>\n      <td>5</td>\n      <td>Robbery Per Agg</td>\n      <td>4.0</td>\n      <td>44.890636</td>\n      <td>-93.280041</td>\n      <td>2010-01-01</td>\n      <td>01:05</td>\n      <td>1</td>\n      <td>...</td>\n      <td>0</td>\n      <td>0</td>\n      <td>0</td>\n      <td>0</td>\n      <td>0</td>\n      <td>0</td>\n      <td>0</td>\n      <td>0</td>\n      <td>0</td>\n      <td>0</td>\n    </tr>\n    <tr>\n      <th>2</th>\n      <td>0039Xx 5 Av S</td>\n      <td>MP2010000373</td>\n      <td>3</td>\n      <td>Burglary Of Dwelling</td>\n      <td>6.0</td>\n      <td>44.931448</td>\n      <td>-93.268841</td>\n      <td>2010-01-01</td>\n      <td>04:18</td>\n      <td>1</td>\n      <td>...</td>\n      <td>0</td>\n      <td>0</td>\n      <td>0</td>\n      <td>0</td>\n      <td>0</td>\n      <td>0</td>\n      <td>0</td>\n      <td>0</td>\n      <td>0</td>\n      <td>0</td>\n    </tr>\n    <tr>\n      <th>3</th>\n      <td>0013Xx Nicollet Av S</td>\n      <td>MP2010000305</td>\n      <td>1</td>\n      <td>Asslt W/Dngrs Weapon</td>\n      <td>5.0</td>\n      <td>44.970506</td>\n      <td>-93.277714</td>\n      <td>2010-01-01</td>\n      <td>03:00</td>\n      <td>1</td>\n      <td>...</td>\n      <td>0</td>\n      <td>0</td>\n      <td>0</td>\n      <td>0</td>\n      <td>0</td>\n      <td>0</td>\n      <td>0</td>\n      <td>0</td>\n      <td>0</td>\n      <td>0</td>\n    </tr>\n    <tr>\n      <th>4</th>\n      <td>0034Xx Oliver Av N</td>\n      <td>MP2010000229</td>\n      <td>4</td>\n      <td>Burglary Of Dwelling</td>\n      <td>6.0</td>\n      <td>45.017746</td>\n      <td>-93.306988</td>\n      <td>2010-01-01</td>\n      <td>02:23</td>\n      <td>1</td>\n      <td>...</td>\n      <td>0</td>\n      <td>0</td>\n      <td>0</td>\n      <td>0</td>\n      <td>0</td>\n      <td>0</td>\n      <td>0</td>\n      <td>0</td>\n      <td>0</td>\n      <td>0</td>\n    </tr>\n  </tbody>\n</table>\n<p>5 rows × 170 columns</p>\n</div>"
     },
     "metadata": {},
     "execution_count": 5
    }
   ],
   "source": [
    "# One hot encode the offenses\n",
    "one_hot = pd.get_dummies(incidents['offense'])\n",
    "incidents = incidents.drop('offense', axis=1)\n",
    "incidents =incidents.join(one_hot)\n",
    "incidents.head()"
   ]
  },
  {
   "cell_type": "code",
   "execution_count": 6,
   "metadata": {},
   "outputs": [
    {
     "output_type": "execute_result",
     "data": {
      "text/plain": [
       "  precinct  month  weekday  day  Armatage  Audubon Park  Bancroft  Beltrami  \\\n",
       "0        5      1        4    1         0             0         0         0   \n",
       "1        5      1        4    1         0             0         0         0   \n",
       "2        3      1        4    1         0             0         0         0   \n",
       "3        1      1        4    1         0             0         0         0   \n",
       "4        4      1        4    1         0             0         0         0   \n",
       "\n",
       "   Bottineau  Bryant  ...  TFMV  TFMV      TFPER  TFPER     THEFT  THEFT     \\\n",
       "0          0       0  ...     0         0      0         0      0         0   \n",
       "1          0       0  ...     0         0      0         0      0         0   \n",
       "2          0       1  ...     0         0      0         0      0         0   \n",
       "3          0       0  ...     0         0      0         0      0         0   \n",
       "4          0       0  ...     0         0      0         0      0         0   \n",
       "\n",
       "   THFTSW  THFTSW    TMVP  TMVP      \n",
       "0       0         0     0         0  \n",
       "1       0         0     0         0  \n",
       "2       0         0     0         0  \n",
       "3       0         0     0         0  \n",
       "4       0         0     0         0  \n",
       "\n",
       "[5 rows x 162 columns]"
      ],
      "text/html": "<div>\n<style scoped>\n    .dataframe tbody tr th:only-of-type {\n        vertical-align: middle;\n    }\n\n    .dataframe tbody tr th {\n        vertical-align: top;\n    }\n\n    .dataframe thead th {\n        text-align: right;\n    }\n</style>\n<table border=\"1\" class=\"dataframe\">\n  <thead>\n    <tr style=\"text-align: right;\">\n      <th></th>\n      <th>precinct</th>\n      <th>month</th>\n      <th>weekday</th>\n      <th>day</th>\n      <th>Armatage</th>\n      <th>Audubon Park</th>\n      <th>Bancroft</th>\n      <th>Beltrami</th>\n      <th>Bottineau</th>\n      <th>Bryant</th>\n      <th>...</th>\n      <th>TFMV</th>\n      <th>TFMV</th>\n      <th>TFPER</th>\n      <th>TFPER</th>\n      <th>THEFT</th>\n      <th>THEFT</th>\n      <th>THFTSW</th>\n      <th>THFTSW</th>\n      <th>TMVP</th>\n      <th>TMVP</th>\n    </tr>\n  </thead>\n  <tbody>\n    <tr>\n      <th>0</th>\n      <td>5</td>\n      <td>1</td>\n      <td>4</td>\n      <td>1</td>\n      <td>0</td>\n      <td>0</td>\n      <td>0</td>\n      <td>0</td>\n      <td>0</td>\n      <td>0</td>\n      <td>...</td>\n      <td>0</td>\n      <td>0</td>\n      <td>0</td>\n      <td>0</td>\n      <td>0</td>\n      <td>0</td>\n      <td>0</td>\n      <td>0</td>\n      <td>0</td>\n      <td>0</td>\n    </tr>\n    <tr>\n      <th>1</th>\n      <td>5</td>\n      <td>1</td>\n      <td>4</td>\n      <td>1</td>\n      <td>0</td>\n      <td>0</td>\n      <td>0</td>\n      <td>0</td>\n      <td>0</td>\n      <td>0</td>\n      <td>...</td>\n      <td>0</td>\n      <td>0</td>\n      <td>0</td>\n      <td>0</td>\n      <td>0</td>\n      <td>0</td>\n      <td>0</td>\n      <td>0</td>\n      <td>0</td>\n      <td>0</td>\n    </tr>\n    <tr>\n      <th>2</th>\n      <td>3</td>\n      <td>1</td>\n      <td>4</td>\n      <td>1</td>\n      <td>0</td>\n      <td>0</td>\n      <td>0</td>\n      <td>0</td>\n      <td>0</td>\n      <td>1</td>\n      <td>...</td>\n      <td>0</td>\n      <td>0</td>\n      <td>0</td>\n      <td>0</td>\n      <td>0</td>\n      <td>0</td>\n      <td>0</td>\n      <td>0</td>\n      <td>0</td>\n      <td>0</td>\n    </tr>\n    <tr>\n      <th>3</th>\n      <td>1</td>\n      <td>1</td>\n      <td>4</td>\n      <td>1</td>\n      <td>0</td>\n      <td>0</td>\n      <td>0</td>\n      <td>0</td>\n      <td>0</td>\n      <td>0</td>\n      <td>...</td>\n      <td>0</td>\n      <td>0</td>\n      <td>0</td>\n      <td>0</td>\n      <td>0</td>\n      <td>0</td>\n      <td>0</td>\n      <td>0</td>\n      <td>0</td>\n      <td>0</td>\n    </tr>\n    <tr>\n      <th>4</th>\n      <td>4</td>\n      <td>1</td>\n      <td>4</td>\n      <td>1</td>\n      <td>0</td>\n      <td>0</td>\n      <td>0</td>\n      <td>0</td>\n      <td>0</td>\n      <td>0</td>\n      <td>...</td>\n      <td>0</td>\n      <td>0</td>\n      <td>0</td>\n      <td>0</td>\n      <td>0</td>\n      <td>0</td>\n      <td>0</td>\n      <td>0</td>\n      <td>0</td>\n      <td>0</td>\n    </tr>\n  </tbody>\n</table>\n<p>5 rows × 162 columns</p>\n</div>"
     },
     "metadata": {},
     "execution_count": 6
    }
   ],
   "source": [
    "# First run using the neighborhoods: .547 NB, .5402 DNN(100epochs)\n",
    "# selected_features = incidents.drop(['publicAddress', 'caseNumber', 'offense', 'description', 'lat', 'lon', 'incidentDate', 'incidentTime', 'ucrCode'], axis=1)\n",
    "\n",
    "# Second run using offenses and neighborhoods: .999 NB, .999 DNN(10epochs)\n",
    "selected_features = incidents.drop(['publicAddress', 'caseNumber', 'description', 'lat', 'lon', 'incidentDate', 'incidentTime', 'ucrCode'], axis=1)\n",
    "\n",
    "selected_features.head()"
   ]
  },
  {
   "cell_type": "code",
   "execution_count": 7,
   "metadata": {},
   "outputs": [],
   "source": [
    "X = selected_features\n",
    "y = incidents['ucrCode']"
   ]
  },
  {
   "source": [
    "## Start of Naive Bayes work"
   ],
   "cell_type": "markdown",
   "metadata": {}
  },
  {
   "cell_type": "code",
   "execution_count": 8,
   "metadata": {},
   "outputs": [],
   "source": [
    "X_train, X_test, y_train, y_test = train_test_split(X, y, test_size=0.2, random_state=42)"
   ]
  },
  {
   "cell_type": "code",
   "execution_count": 9,
   "metadata": {},
   "outputs": [
    {
     "output_type": "execute_result",
     "data": {
      "text/plain": [
       "MultinomialNB()"
      ]
     },
     "metadata": {},
     "execution_count": 9
    }
   ],
   "source": [
    "nb = MultinomialNB()\n",
    "nb.fit(X_train, y_train)"
   ]
  },
  {
   "cell_type": "code",
   "execution_count": 10,
   "metadata": {},
   "outputs": [
    {
     "output_type": "stream",
     "name": "stdout",
     "text": [
      "[7. 7. 8. ... 6. 8. 7.]\n"
     ]
    }
   ],
   "source": [
    "predictions = nb.predict(X_test)\n",
    "print(predictions)"
   ]
  },
  {
   "cell_type": "code",
   "execution_count": 11,
   "metadata": {},
   "outputs": [
    {
     "output_type": "execute_result",
     "data": {
      "text/plain": [
       "0.999889993839655"
      ]
     },
     "metadata": {},
     "execution_count": 11
    }
   ],
   "source": [
    "from sklearn.metrics import accuracy_score\n",
    "accuracy_score(y_test, predictions)"
   ]
  },
  {
   "source": [
    "## Deep Learning NN Model"
   ],
   "cell_type": "markdown",
   "metadata": {}
  },
  {
   "cell_type": "code",
   "execution_count": 12,
   "metadata": {},
   "outputs": [],
   "source": [
    "# Scale the x data\n",
    "X_scaler = MinMaxScaler().fit(X_train)\n",
    "X_train_scaled = X_scaler.transform(X_train)\n",
    "X_test_scaled = X_scaler.transform(X_test)"
   ]
  },
  {
   "cell_type": "code",
   "execution_count": 13,
   "metadata": {},
   "outputs": [],
   "source": [
    "# Encode the y data\n",
    "label_encoder = LabelEncoder()\n",
    "label_encoder.fit(y_train)\n",
    "encoded_y_train = label_encoder.transform(y_train)\n",
    "encoded_y_test = label_encoder.transform(y_test)"
   ]
  },
  {
   "cell_type": "code",
   "execution_count": 14,
   "metadata": {},
   "outputs": [
    {
     "output_type": "execute_result",
     "data": {
      "text/plain": [
       "array([[0., 0., 0., ..., 0., 1., 0.],\n",
       "       [0., 0., 0., ..., 1., 0., 0.],\n",
       "       [0., 0., 0., ..., 1., 0., 0.],\n",
       "       ...,\n",
       "       [0., 0., 0., ..., 1., 0., 0.],\n",
       "       [0., 0., 0., ..., 1., 0., 0.],\n",
       "       [0., 0., 0., ..., 1., 0., 0.]], dtype=float32)"
      ]
     },
     "metadata": {},
     "execution_count": 14
    }
   ],
   "source": [
    "# Convert the y to categorical\n",
    "y_train_categorical = to_categorical(encoded_y_train)\n",
    "y_test_categorical = to_categorical(encoded_y_test)\n",
    "y_train_categorical"
   ]
  },
  {
   "cell_type": "code",
   "execution_count": 15,
   "metadata": {},
   "outputs": [
    {
     "output_type": "stream",
     "name": "stdout",
     "text": [
      "(181807, 162) (181807, 8)\n"
     ]
    }
   ],
   "source": [
    "print(X_train_scaled.shape, y_train_categorical.shape)"
   ]
  },
  {
   "cell_type": "code",
   "execution_count": 16,
   "metadata": {},
   "outputs": [],
   "source": [
    "# Set up the model\n",
    "model = Sequential()\n",
    "model.add(Dense(units=100, activation='relu', input_dim=162))\n",
    "model.add(Dense(units=100, activation='relu'))\n",
    "model.add(Dense(units=8, activation='softmax'))"
   ]
  },
  {
   "cell_type": "code",
   "execution_count": 17,
   "metadata": {},
   "outputs": [],
   "source": [
    "model.compile(optimizer='adam', loss='mse', metrics=['accuracy'])"
   ]
  },
  {
   "cell_type": "code",
   "execution_count": 18,
   "metadata": {},
   "outputs": [
    {
     "output_type": "stream",
     "name": "stdout",
     "text": [
      "Model: \"sequential\"\n_________________________________________________________________\nLayer (type)                 Output Shape              Param #   \n=================================================================\ndense (Dense)                (None, 100)               16300     \n_________________________________________________________________\ndense_1 (Dense)              (None, 100)               10100     \n_________________________________________________________________\ndense_2 (Dense)              (None, 8)                 808       \n=================================================================\nTotal params: 27,208\nTrainable params: 27,208\nNon-trainable params: 0\n_________________________________________________________________\n"
     ]
    }
   ],
   "source": [
    "model.summary()"
   ]
  },
  {
   "cell_type": "code",
   "execution_count": 19,
   "metadata": {},
   "outputs": [
    {
     "output_type": "stream",
     "name": "stdout",
     "text": [
      "Train on 181807 samples\n",
      "Epoch 1/10\n",
      "181807/181807 - 7s - loss: 0.0014 - accuracy: 0.9928\n",
      "Epoch 2/10\n",
      "181807/181807 - 6s - loss: 4.3585e-06 - accuracy: 1.0000\n",
      "Epoch 3/10\n",
      "181807/181807 - 6s - loss: 1.1146e-06 - accuracy: 1.0000\n",
      "Epoch 4/10\n",
      "181807/181807 - 6s - loss: 1.9904e-07 - accuracy: 1.0000\n",
      "Epoch 5/10\n",
      "181807/181807 - 6s - loss: 3.3982e-10 - accuracy: 1.0000\n",
      "Epoch 6/10\n",
      "181807/181807 - 6s - loss: 1.6005e-10 - accuracy: 1.0000\n",
      "Epoch 7/10\n",
      "181807/181807 - 6s - loss: 8.9624e-11 - accuracy: 1.0000\n",
      "Epoch 8/10\n",
      "181807/181807 - 6s - loss: 6.0938e-11 - accuracy: 1.0000\n",
      "Epoch 9/10\n",
      "181807/181807 - 6s - loss: 4.6338e-11 - accuracy: 1.0000\n",
      "Epoch 10/10\n",
      "181807/181807 - 6s - loss: 3.7430e-11 - accuracy: 1.0000\n"
     ]
    },
    {
     "output_type": "execute_result",
     "data": {
      "text/plain": [
       "<tensorflow.python.keras.callbacks.History at 0x216b3eada90>"
      ]
     },
     "metadata": {},
     "execution_count": 19
    }
   ],
   "source": [
    "model.fit(X_train_scaled, y_train_categorical, epochs=10, shuffle=True, verbose=2)"
   ]
  },
  {
   "cell_type": "code",
   "execution_count": 20,
   "metadata": {},
   "outputs": [
    {
     "output_type": "stream",
     "name": "stdout",
     "text": [
      "45452/45452 - 3s - loss: 3.8540e-06 - accuracy: 1.0000\n",
      "Loss: 3.853987780982381e-06, Accuracy: 0.9999780058860779\n"
     ]
    }
   ],
   "source": [
    "# Evaluate the model using the test data\n",
    "model_loss, model_accuracy = model.evaluate(X_test_scaled, y_test_categorical, verbose=2)\n",
    "print(f\"Loss: {model_loss}, Accuracy: {model_accuracy}\")"
   ]
  },
  {
   "cell_type": "code",
   "execution_count": null,
   "metadata": {},
   "outputs": [],
   "source": []
  }
 ]
}