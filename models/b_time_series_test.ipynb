{
 "metadata": {
  "language_info": {
   "codemirror_mode": {
    "name": "ipython",
    "version": 3
   },
   "file_extension": ".py",
   "mimetype": "text/x-python",
   "name": "python",
   "nbconvert_exporter": "python",
   "pygments_lexer": "ipython3",
   "version": "3.6.12-final"
  },
  "orig_nbformat": 2,
  "kernelspec": {
   "name": "python3",
   "display_name": "Python 3.6.12 64-bit ('PythonAdv': conda)",
   "metadata": {
    "interpreter": {
     "hash": "c9229c4222e9c2e882056fbfcc28508861c090f803a6fe3417bc998051bd922e"
    }
   }
  }
 },
 "nbformat": 4,
 "nbformat_minor": 2,
 "cells": [
  {
   "cell_type": "code",
   "execution_count": 1,
   "metadata": {},
   "outputs": [],
   "source": [
    "import warnings\n",
    "warnings.filterwarnings('ignore')\n",
    "\n",
    "import pandas as pd\n",
    "import numpy as np\n",
    "import math\n",
    "import matplotlib.pyplot as plt\n",
    "from numpy import mean\n",
    "from numpy import array\n",
    "from prettytable import PrettyTable\n",
    "from tqdm import tqdm_notebook\n",
    "\n",
    "# from keras.models import Sequential\n",
    "# from keras.layers import LSTM\n",
    "# from keras.layers import Dense\n",
    "# from keras.layers import Bidirectional\n",
    "# from keras.layers import Flatten\n",
    "# from keras.layers import TimeDistributed\n",
    "# from keras.layers.convolutional import Conv1D\n",
    "# from keras.layers.convolutional import MaxPooling1D\n",
    "\n",
    "from sklearn.metrics import mean_squared_error"
   ]
  },
  {
   "source": [
    "This article covers the main method used: https://machinelearningmastery.com/moving-average-smoothing-for-time-series-forecasting-python/"
   ],
   "cell_type": "markdown",
   "metadata": {}
  },
  {
   "cell_type": "code",
   "execution_count": 2,
   "metadata": {},
   "outputs": [
    {
     "output_type": "execute_result",
     "data": {
      "text/plain": [
       "                   publicAddress            caseNumber precinct   offense  \\\n",
       "0            0056Xx Lyndale Av S          MP2010000051        5      CSCR   \n",
       "1                 0001Xx 62 St W          MP2010000099        5    ROBPAG   \n",
       "2                  0039Xx 5 Av S          MP2010000373        3     BURGD   \n",
       "3           0013Xx Nicollet Av S          MP2010000305        1     ASLT2   \n",
       "4             0034Xx Oliver Av N          MP2010000229        4     BURGD   \n",
       "...                          ...                   ...      ...       ...   \n",
       "235545           00008X 8Th St S  MP2020708915                1  SHOPLF     \n",
       "235546           00008X 8Th St S  MP2020708916                1  SHOPLF     \n",
       "235547  0006Xx Washington Ave Se  MP2020708917                2  BIKETF     \n",
       "235548         0025Xx 36Th Ave N  MP2020321240                4  THFTSW     \n",
       "235549       0010Xx Lowry Ave Ne  MP2020315874                2  ROBPER     \n",
       "\n",
       "                           description  ucrCode        lat        lon  \\\n",
       "0                   Crim Sex Cond-Rape      3.0  44.900291 -93.288239   \n",
       "1                      Robbery Per Agg      4.0  44.890636 -93.280041   \n",
       "2                 Burglary Of Dwelling      6.0  44.931448 -93.268841   \n",
       "3                 Asslt W/Dngrs Weapon      5.0  44.970506 -93.277714   \n",
       "4                 Burglary Of Dwelling      6.0  45.017746 -93.306988   \n",
       "...                                ...      ...        ...        ...   \n",
       "235545  Shoplifting                         7.0  44.975633 -93.272376   \n",
       "235546  Shoplifting                         7.0  44.975633 -93.272376   \n",
       "235547  Bike Theft                          7.0  44.973658 -93.229494   \n",
       "235548  Theft By Swindle                    7.0  45.020468 -93.312715   \n",
       "235549  Robbery Of Person                   4.0  45.013167 -93.244669   \n",
       "\n",
       "                   neighborhood incidentDate incidentTime  \n",
       "0                        Windom   2010/01/01        00:30  \n",
       "1                        Windom   2010/01/01        01:05  \n",
       "2                        Bryant   2010/01/01        04:18  \n",
       "3                   Loring Park   2010/01/01        03:00  \n",
       "4                       Folwell   2010/01/01        02:23  \n",
       "...                         ...          ...          ...  \n",
       "235545            Downtown West   2020/12/24        14:45  \n",
       "235546            Downtown West   2020/12/24        15:45  \n",
       "235547  University Of Minnesota   2020/12/22        11:00  \n",
       "235548                Cleveland   2020/12/27        17:00  \n",
       "235549             Audubon Park   2020/12/21        13:05  \n",
       "\n",
       "[235550 rows x 11 columns]"
      ],
      "text/html": "<div>\n<style scoped>\n    .dataframe tbody tr th:only-of-type {\n        vertical-align: middle;\n    }\n\n    .dataframe tbody tr th {\n        vertical-align: top;\n    }\n\n    .dataframe thead th {\n        text-align: right;\n    }\n</style>\n<table border=\"1\" class=\"dataframe\">\n  <thead>\n    <tr style=\"text-align: right;\">\n      <th></th>\n      <th>publicAddress</th>\n      <th>caseNumber</th>\n      <th>precinct</th>\n      <th>offense</th>\n      <th>description</th>\n      <th>ucrCode</th>\n      <th>lat</th>\n      <th>lon</th>\n      <th>neighborhood</th>\n      <th>incidentDate</th>\n      <th>incidentTime</th>\n    </tr>\n  </thead>\n  <tbody>\n    <tr>\n      <th>0</th>\n      <td>0056Xx Lyndale Av S</td>\n      <td>MP2010000051</td>\n      <td>5</td>\n      <td>CSCR</td>\n      <td>Crim Sex Cond-Rape</td>\n      <td>3.0</td>\n      <td>44.900291</td>\n      <td>-93.288239</td>\n      <td>Windom</td>\n      <td>2010/01/01</td>\n      <td>00:30</td>\n    </tr>\n    <tr>\n      <th>1</th>\n      <td>0001Xx 62 St W</td>\n      <td>MP2010000099</td>\n      <td>5</td>\n      <td>ROBPAG</td>\n      <td>Robbery Per Agg</td>\n      <td>4.0</td>\n      <td>44.890636</td>\n      <td>-93.280041</td>\n      <td>Windom</td>\n      <td>2010/01/01</td>\n      <td>01:05</td>\n    </tr>\n    <tr>\n      <th>2</th>\n      <td>0039Xx 5 Av S</td>\n      <td>MP2010000373</td>\n      <td>3</td>\n      <td>BURGD</td>\n      <td>Burglary Of Dwelling</td>\n      <td>6.0</td>\n      <td>44.931448</td>\n      <td>-93.268841</td>\n      <td>Bryant</td>\n      <td>2010/01/01</td>\n      <td>04:18</td>\n    </tr>\n    <tr>\n      <th>3</th>\n      <td>0013Xx Nicollet Av S</td>\n      <td>MP2010000305</td>\n      <td>1</td>\n      <td>ASLT2</td>\n      <td>Asslt W/Dngrs Weapon</td>\n      <td>5.0</td>\n      <td>44.970506</td>\n      <td>-93.277714</td>\n      <td>Loring Park</td>\n      <td>2010/01/01</td>\n      <td>03:00</td>\n    </tr>\n    <tr>\n      <th>4</th>\n      <td>0034Xx Oliver Av N</td>\n      <td>MP2010000229</td>\n      <td>4</td>\n      <td>BURGD</td>\n      <td>Burglary Of Dwelling</td>\n      <td>6.0</td>\n      <td>45.017746</td>\n      <td>-93.306988</td>\n      <td>Folwell</td>\n      <td>2010/01/01</td>\n      <td>02:23</td>\n    </tr>\n    <tr>\n      <th>...</th>\n      <td>...</td>\n      <td>...</td>\n      <td>...</td>\n      <td>...</td>\n      <td>...</td>\n      <td>...</td>\n      <td>...</td>\n      <td>...</td>\n      <td>...</td>\n      <td>...</td>\n      <td>...</td>\n    </tr>\n    <tr>\n      <th>235545</th>\n      <td>00008X 8Th St S</td>\n      <td>MP2020708915</td>\n      <td>1</td>\n      <td>SHOPLF</td>\n      <td>Shoplifting</td>\n      <td>7.0</td>\n      <td>44.975633</td>\n      <td>-93.272376</td>\n      <td>Downtown West</td>\n      <td>2020/12/24</td>\n      <td>14:45</td>\n    </tr>\n    <tr>\n      <th>235546</th>\n      <td>00008X 8Th St S</td>\n      <td>MP2020708916</td>\n      <td>1</td>\n      <td>SHOPLF</td>\n      <td>Shoplifting</td>\n      <td>7.0</td>\n      <td>44.975633</td>\n      <td>-93.272376</td>\n      <td>Downtown West</td>\n      <td>2020/12/24</td>\n      <td>15:45</td>\n    </tr>\n    <tr>\n      <th>235547</th>\n      <td>0006Xx Washington Ave Se</td>\n      <td>MP2020708917</td>\n      <td>2</td>\n      <td>BIKETF</td>\n      <td>Bike Theft</td>\n      <td>7.0</td>\n      <td>44.973658</td>\n      <td>-93.229494</td>\n      <td>University Of Minnesota</td>\n      <td>2020/12/22</td>\n      <td>11:00</td>\n    </tr>\n    <tr>\n      <th>235548</th>\n      <td>0025Xx 36Th Ave N</td>\n      <td>MP2020321240</td>\n      <td>4</td>\n      <td>THFTSW</td>\n      <td>Theft By Swindle</td>\n      <td>7.0</td>\n      <td>45.020468</td>\n      <td>-93.312715</td>\n      <td>Cleveland</td>\n      <td>2020/12/27</td>\n      <td>17:00</td>\n    </tr>\n    <tr>\n      <th>235549</th>\n      <td>0010Xx Lowry Ave Ne</td>\n      <td>MP2020315874</td>\n      <td>2</td>\n      <td>ROBPER</td>\n      <td>Robbery Of Person</td>\n      <td>4.0</td>\n      <td>45.013167</td>\n      <td>-93.244669</td>\n      <td>Audubon Park</td>\n      <td>2020/12/21</td>\n      <td>13:05</td>\n    </tr>\n  </tbody>\n</table>\n<p>235550 rows × 11 columns</p>\n</div>"
     },
     "metadata": {},
     "execution_count": 2
    }
   ],
   "source": [
    "incidents = pd.read_csv(\"../incident_data/yearly_incident_data/all_incidents.csv\", low_memory=False)\n",
    "incidents"
   ]
  },
  {
   "cell_type": "code",
   "execution_count": 3,
   "metadata": {},
   "outputs": [
    {
     "output_type": "execute_result",
     "data": {
      "text/plain": [
       "                   publicAddress            caseNumber precinct   offense  \\\n",
       "0            0056Xx Lyndale Av S          MP2010000051        5      CSCR   \n",
       "1                 0001Xx 62 St W          MP2010000099        5    ROBPAG   \n",
       "2                  0039Xx 5 Av S          MP2010000373        3     BURGD   \n",
       "3           0013Xx Nicollet Av S          MP2010000305        1     ASLT2   \n",
       "4             0034Xx Oliver Av N          MP2010000229        4     BURGD   \n",
       "...                          ...                   ...      ...       ...   \n",
       "235545           00008X 8Th St S  MP2020708915                1  SHOPLF     \n",
       "235546           00008X 8Th St S  MP2020708916                1  SHOPLF     \n",
       "235547  0006Xx Washington Ave Se  MP2020708917                2  BIKETF     \n",
       "235548         0025Xx 36Th Ave N  MP2020321240                4  THFTSW     \n",
       "235549       0010Xx Lowry Ave Ne  MP2020315874                2  ROBPER     \n",
       "\n",
       "                           description  ucrCode        lat        lon  \\\n",
       "0                   Crim Sex Cond-Rape      3.0  44.900291 -93.288239   \n",
       "1                      Robbery Per Agg      4.0  44.890636 -93.280041   \n",
       "2                 Burglary Of Dwelling      6.0  44.931448 -93.268841   \n",
       "3                 Asslt W/Dngrs Weapon      5.0  44.970506 -93.277714   \n",
       "4                 Burglary Of Dwelling      6.0  45.017746 -93.306988   \n",
       "...                                ...      ...        ...        ...   \n",
       "235545  Shoplifting                         7.0  44.975633 -93.272376   \n",
       "235546  Shoplifting                         7.0  44.975633 -93.272376   \n",
       "235547  Bike Theft                          7.0  44.973658 -93.229494   \n",
       "235548  Theft By Swindle                    7.0  45.020468 -93.312715   \n",
       "235549  Robbery Of Person                   4.0  45.013167 -93.244669   \n",
       "\n",
       "                   neighborhood incidentDate incidentTime  \n",
       "0                        Windom   2010/01/01        00:30  \n",
       "1                        Windom   2010/01/01        01:05  \n",
       "2                        Bryant   2010/01/01        04:18  \n",
       "3                   Loring Park   2010/01/01        03:00  \n",
       "4                       Folwell   2010/01/01        02:23  \n",
       "...                         ...          ...          ...  \n",
       "235545            Downtown West   2020/12/24        14:45  \n",
       "235546            Downtown West   2020/12/24        15:45  \n",
       "235547  University Of Minnesota   2020/12/22        11:00  \n",
       "235548                Cleveland   2020/12/27        17:00  \n",
       "235549             Audubon Park   2020/12/21        13:05  \n",
       "\n",
       "[227259 rows x 11 columns]"
      ],
      "text/html": "<div>\n<style scoped>\n    .dataframe tbody tr th:only-of-type {\n        vertical-align: middle;\n    }\n\n    .dataframe tbody tr th {\n        vertical-align: top;\n    }\n\n    .dataframe thead th {\n        text-align: right;\n    }\n</style>\n<table border=\"1\" class=\"dataframe\">\n  <thead>\n    <tr style=\"text-align: right;\">\n      <th></th>\n      <th>publicAddress</th>\n      <th>caseNumber</th>\n      <th>precinct</th>\n      <th>offense</th>\n      <th>description</th>\n      <th>ucrCode</th>\n      <th>lat</th>\n      <th>lon</th>\n      <th>neighborhood</th>\n      <th>incidentDate</th>\n      <th>incidentTime</th>\n    </tr>\n  </thead>\n  <tbody>\n    <tr>\n      <th>0</th>\n      <td>0056Xx Lyndale Av S</td>\n      <td>MP2010000051</td>\n      <td>5</td>\n      <td>CSCR</td>\n      <td>Crim Sex Cond-Rape</td>\n      <td>3.0</td>\n      <td>44.900291</td>\n      <td>-93.288239</td>\n      <td>Windom</td>\n      <td>2010/01/01</td>\n      <td>00:30</td>\n    </tr>\n    <tr>\n      <th>1</th>\n      <td>0001Xx 62 St W</td>\n      <td>MP2010000099</td>\n      <td>5</td>\n      <td>ROBPAG</td>\n      <td>Robbery Per Agg</td>\n      <td>4.0</td>\n      <td>44.890636</td>\n      <td>-93.280041</td>\n      <td>Windom</td>\n      <td>2010/01/01</td>\n      <td>01:05</td>\n    </tr>\n    <tr>\n      <th>2</th>\n      <td>0039Xx 5 Av S</td>\n      <td>MP2010000373</td>\n      <td>3</td>\n      <td>BURGD</td>\n      <td>Burglary Of Dwelling</td>\n      <td>6.0</td>\n      <td>44.931448</td>\n      <td>-93.268841</td>\n      <td>Bryant</td>\n      <td>2010/01/01</td>\n      <td>04:18</td>\n    </tr>\n    <tr>\n      <th>3</th>\n      <td>0013Xx Nicollet Av S</td>\n      <td>MP2010000305</td>\n      <td>1</td>\n      <td>ASLT2</td>\n      <td>Asslt W/Dngrs Weapon</td>\n      <td>5.0</td>\n      <td>44.970506</td>\n      <td>-93.277714</td>\n      <td>Loring Park</td>\n      <td>2010/01/01</td>\n      <td>03:00</td>\n    </tr>\n    <tr>\n      <th>4</th>\n      <td>0034Xx Oliver Av N</td>\n      <td>MP2010000229</td>\n      <td>4</td>\n      <td>BURGD</td>\n      <td>Burglary Of Dwelling</td>\n      <td>6.0</td>\n      <td>45.017746</td>\n      <td>-93.306988</td>\n      <td>Folwell</td>\n      <td>2010/01/01</td>\n      <td>02:23</td>\n    </tr>\n    <tr>\n      <th>...</th>\n      <td>...</td>\n      <td>...</td>\n      <td>...</td>\n      <td>...</td>\n      <td>...</td>\n      <td>...</td>\n      <td>...</td>\n      <td>...</td>\n      <td>...</td>\n      <td>...</td>\n      <td>...</td>\n    </tr>\n    <tr>\n      <th>235545</th>\n      <td>00008X 8Th St S</td>\n      <td>MP2020708915</td>\n      <td>1</td>\n      <td>SHOPLF</td>\n      <td>Shoplifting</td>\n      <td>7.0</td>\n      <td>44.975633</td>\n      <td>-93.272376</td>\n      <td>Downtown West</td>\n      <td>2020/12/24</td>\n      <td>14:45</td>\n    </tr>\n    <tr>\n      <th>235546</th>\n      <td>00008X 8Th St S</td>\n      <td>MP2020708916</td>\n      <td>1</td>\n      <td>SHOPLF</td>\n      <td>Shoplifting</td>\n      <td>7.0</td>\n      <td>44.975633</td>\n      <td>-93.272376</td>\n      <td>Downtown West</td>\n      <td>2020/12/24</td>\n      <td>15:45</td>\n    </tr>\n    <tr>\n      <th>235547</th>\n      <td>0006Xx Washington Ave Se</td>\n      <td>MP2020708917</td>\n      <td>2</td>\n      <td>BIKETF</td>\n      <td>Bike Theft</td>\n      <td>7.0</td>\n      <td>44.973658</td>\n      <td>-93.229494</td>\n      <td>University Of Minnesota</td>\n      <td>2020/12/22</td>\n      <td>11:00</td>\n    </tr>\n    <tr>\n      <th>235548</th>\n      <td>0025Xx 36Th Ave N</td>\n      <td>MP2020321240</td>\n      <td>4</td>\n      <td>THFTSW</td>\n      <td>Theft By Swindle</td>\n      <td>7.0</td>\n      <td>45.020468</td>\n      <td>-93.312715</td>\n      <td>Cleveland</td>\n      <td>2020/12/27</td>\n      <td>17:00</td>\n    </tr>\n    <tr>\n      <th>235549</th>\n      <td>0010Xx Lowry Ave Ne</td>\n      <td>MP2020315874</td>\n      <td>2</td>\n      <td>ROBPER</td>\n      <td>Robbery Of Person</td>\n      <td>4.0</td>\n      <td>45.013167</td>\n      <td>-93.244669</td>\n      <td>Audubon Park</td>\n      <td>2020/12/21</td>\n      <td>13:05</td>\n    </tr>\n  </tbody>\n</table>\n<p>227259 rows × 11 columns</p>\n</div>"
     },
     "metadata": {},
     "execution_count": 3
    }
   ],
   "source": [
    "# Read in the CSV\n",
    "# incidents = pd.read_csv(\"../incident_data/yearly_incident_data/all_incidents.csv\", low_memory=False)\n",
    "incidents = incidents.dropna()\n",
    "incidents"
   ]
  },
  {
   "cell_type": "code",
   "execution_count": null,
   "metadata": {},
   "outputs": [],
   "source": [
    "# Reset the index to date, and split the date into fields for analysis\n",
    "incidents.index = pd.DatetimeIndex(incidents.incidentDate)\n",
    "\n",
    "incidents['month'] = incidents.index.month\n",
    "incidents['year'] = incidents.index.year\n",
    "incidents['dayOfWeek'] = incidents.index.dayofweek\n",
    "incidents['dayOfMonth'] = incidents.index.day\n",
    "incidents['dayOfYear'] = incidents.index.dayofyear\n",
    "incidents['weekOfMonth'] = incidents.dayOfMonth.apply(lambda d: (d-1) // 7 +1)\n",
    "\n",
    "dayOfYear = list(incidents.index.dayofyear)\n",
    "weekOfYear = [math.ceil(i/7) for i in dayOfYear]\n",
    "incidents['weekOfYear'] = weekOfYear\n",
    "\n",
    "incidents = incidents.sort_index()\n",
    "\n",
    "incidents.loc[(incidents['neighborhood'] == \"Steven'S Square - Loring Heights\"), 'neighborhood'] = 'Stevens Square - Loring Heights'\n",
    "\n",
    "incidents.head()"
   ]
  },
  {
   "cell_type": "code",
   "execution_count": null,
   "metadata": {},
   "outputs": [],
   "source": [
    "# Training on 2010-2017 data, then using 2019 for testing. Need to investigate 2018 data - seems like we lost a large number of records potentially during the data cleaning phase when we dropped NAs\n",
    "incidents_train = incidents.loc['2010-01-01':'2017-12-31']\n",
    "incidents_test = incidents.loc['2019-01-01':'2019-12-31']"
   ]
  },
  {
   "source": [
    "# Setup Train and Test Data Sets for Monthly Predictions"
   ],
   "cell_type": "markdown",
   "metadata": {}
  },
  {
   "cell_type": "code",
   "execution_count": null,
   "metadata": {},
   "outputs": [],
   "source": [
    "# Gather the unique neighborhoods into a list\n",
    "neighborhood_list = list(incidents['neighborhood'].unique())\n",
    "print(neighborhood_list)"
   ]
  },
  {
   "cell_type": "code",
   "execution_count": null,
   "metadata": {},
   "outputs": [],
   "source": [
    "# Training data - count of crimes by neighborhood by month\n",
    "train_n = []\n",
    "for neighborhood in neighborhood_list:\n",
    "    df = incidents_train[incidents_train['neighborhood'] == neighborhood]\n",
    "    df_gr = df.groupby(['year', 'month']).count()\n",
    "    train_n.append(list(df_gr['incidentDate'].values))"
   ]
  },
  {
   "cell_type": "code",
   "execution_count": null,
   "metadata": {},
   "outputs": [],
   "source": [
    "# Testing data - count of crimes by neighborhood by month\n",
    "test_n = []\n",
    "for neighborhood in neighborhood_list:\n",
    "    df = incidents_test[incidents_test['neighborhood'] == neighborhood]\n",
    "    df_gr = df.groupby(['month']).count()\n",
    "    test_n.append(list(df_gr['incidentDate'].values))"
   ]
  },
  {
   "source": [
    "## Simple Moving Average"
   ],
   "cell_type": "markdown",
   "metadata": {}
  },
  {
   "cell_type": "code",
   "execution_count": null,
   "metadata": {},
   "outputs": [],
   "source": [
    "# Prepare situation. Used window of 3 (3 months - quarter of a year)\n",
    "window = 3\n",
    "predTot = list()\n",
    "testTot = list()\n",
    "# Walk forward over time steps in test\n",
    "for neighborhoodNum in range(len(train_n)):\n",
    "    \n",
    "    history = train_n[neighborhoodNum]\n",
    "    test = test_n[neighborhoodNum]\n",
    "    preds = []\n",
    "    for t in range(len(test)):\n",
    "        length = len(history)\n",
    "        yhat = mean([history[i] for i in range(length - window, length)])\n",
    "        obs = test[t]\n",
    "        preds.append(yhat)\n",
    "        history.append(obs)\n",
    "    \n",
    "    print('Neighborhood #: {}'.format(neighborhoodNum+1))\n",
    "    print('Name: {}'.format(neighborhood_list[neighborhoodNum]))\n",
    "    print('Actuals: {}'.format(test))\n",
    "    print('Predictions: {}'.format(preds))\n",
    "    \n",
    "    # Plot the actual crimes for the test period in blue, the prediction based on the training set is in red\n",
    "    plt.plot(test, label='Actual')\n",
    "    plt.plot(preds, color='red', label='Predicted')\n",
    "    plt.title(neighborhood_list[neighborhoodNum])\n",
    "    plt.xlabel('Month')\n",
    "    plt.ylabel('Count of crimes')\n",
    "    plt.legend(loc='upper right')\n",
    "    plt.show()\n",
    "    \n",
    "    testTot = testTot + test\n",
    "    predTot = predTot + preds\n",
    "error = mean_squared_error(predTot, testTot) ** .5\n",
    "print('Test RMSE: %.3f' % error)"
   ]
  },
  {
   "source": [
    "# Neighborhood weekly predictions"
   ],
   "cell_type": "markdown",
   "metadata": {}
  },
  {
   "cell_type": "code",
   "execution_count": null,
   "metadata": {},
   "outputs": [],
   "source": [
    "# Training data - count of crimes by neighborhood by week\n",
    "train_n = []\n",
    "for neighborhood in neighborhood_list:\n",
    "    df = incidents_train[incidents_train['neighborhood'] == neighborhood]\n",
    "    df_gr = df.groupby(['year', 'weekOfYear']).count()\n",
    "    train_n.append(list(df_gr['incidentDate'].values))"
   ]
  },
  {
   "cell_type": "code",
   "execution_count": null,
   "metadata": {},
   "outputs": [],
   "source": [
    "# Testing data - count of crimes by neighborhood by week\n",
    "test_n = []\n",
    "for neighborhood in neighborhood_list:\n",
    "    df = incidents_test[incidents_test['neighborhood'] == neighborhood]\n",
    "    df_gr = df.groupby(['weekOfYear']).count()\n",
    "    test_n.append(list(df_gr['incidentDate'].values))"
   ]
  },
  {
   "cell_type": "code",
   "execution_count": null,
   "metadata": {},
   "outputs": [],
   "source": [
    "# Prepare situation. Used window of 4 (4 week rolling average)\n",
    "window = 4\n",
    "predTot = list()\n",
    "testTot = list()\n",
    "# Walk forward over time steps in test\n",
    "for neighborhoodNum in range(len(train_n)):\n",
    "    \n",
    "    history = train_n[neighborhoodNum]\n",
    "    test = test_n[neighborhoodNum]\n",
    "    preds = []\n",
    "    for t in range(len(test)):\n",
    "        length = len(history)\n",
    "        yhat = mean([history[i] for i in range(length - window, length)])\n",
    "        obs = test[t]\n",
    "        preds.append(yhat)\n",
    "        history.append(obs)\n",
    "    \n",
    "    print('Neighborhood #: {}'.format(neighborhoodNum+1))\n",
    "    print('Name: {}'.format(neighborhood_list[neighborhoodNum]))\n",
    "    # print('Actuals: {}'.format(test))\n",
    "    # print('Predictions: {}'.format(preds))\n",
    "    \n",
    "    # Plot the actual crimes for the test period in blue, the prediction based on the training set is in red\n",
    "    plt.plot(test, label='Actual')\n",
    "    plt.plot(preds, color='red', label='Predicted')\n",
    "    plt.title(neighborhood_list[neighborhoodNum])\n",
    "    plt.xlabel('Week No.')\n",
    "    plt.ylabel('Count of crimes')\n",
    "    plt.legend(loc='upper right')\n",
    "    plt.show()\n",
    "    \n",
    "    testTot = testTot + test\n",
    "    predTot = predTot + preds\n",
    "error = mean_squared_error(predTot, testTot) ** .5\n",
    "print('Test RMSE: %.3f' % error)"
   ]
  },
  {
   "source": [
    "# Precinct Monthly Predictions"
   ],
   "cell_type": "markdown",
   "metadata": {}
  },
  {
   "cell_type": "code",
   "execution_count": null,
   "metadata": {},
   "outputs": [],
   "source": [
    "# Predictions by precinct\n",
    "precinct_list = list(incidents['precinct'].unique())"
   ]
  },
  {
   "cell_type": "code",
   "execution_count": null,
   "metadata": {},
   "outputs": [],
   "source": [
    "train_p = []\n",
    "for precinct in precinct_list:\n",
    "    df = incidents_train[incidents_train['precinct'] == precinct]\n",
    "    df_gr = df.groupby(['year', 'month']).count()\n",
    "    train_p.append(list(df_gr['incidentDate'].values))"
   ]
  },
  {
   "cell_type": "code",
   "execution_count": null,
   "metadata": {},
   "outputs": [],
   "source": [
    "test_p = []\n",
    "for precinct in precinct_list:\n",
    "    df = incidents_test[incidents_test['precinct'] == precinct]\n",
    "    df_gr = df.groupby(['month']).count()\n",
    "    test_p.append(list(df_gr['incidentDate'].values))"
   ]
  },
  {
   "cell_type": "code",
   "execution_count": null,
   "metadata": {},
   "outputs": [],
   "source": [
    "# prepare situation\n",
    "window = 3\n",
    "predTot = list()\n",
    "testTot = list()\n",
    "# walk forward over time steps in test\n",
    "for precinctNum in range(len(train_p)):\n",
    "    \n",
    "    history = train_p[precinctNum]\n",
    "    test = test_p[precinctNum]\n",
    "    preds = []\n",
    "    for t in range(len(test)):\n",
    "        length = len(history)\n",
    "        yhat = mean([history[i] for i in range(length - window, length)])\n",
    "        obs = test[t]\n",
    "        preds.append(yhat)\n",
    "        history.append(obs)\n",
    "    \n",
    "    print('Precinct: {}'.format(precinctNum+1))\n",
    "    print('Actuals: {}'.format(test))\n",
    "    print('Predictions: {}'.format(preds))\n",
    "    # plot\n",
    "    plt.plot(test)\n",
    "    plt.plot(preds, color='red')\n",
    "    plt.show()\n",
    "    \n",
    "    testTot = testTot + test\n",
    "    predTot = predTot + preds\n",
    "error = mean_squared_error(predTot, testTot) ** .5\n",
    "print('Test RMSE: %.3f' % error)"
   ]
  },
  {
   "source": [
    "Weighted Moving Average"
   ],
   "cell_type": "markdown",
   "metadata": {}
  },
  {
   "cell_type": "code",
   "execution_count": null,
   "metadata": {},
   "outputs": [],
   "source": [
    "# prepare situation\n",
    "window = 3\n",
    "predTot = list()\n",
    "testTot = list()\n",
    "# walk forward over time steps in test\n",
    "for precinctNum in range(len(train_p)):\n",
    "    \n",
    "    history = train_p[precinctNum]\n",
    "    test = test_p[precinctNum]\n",
    "    preds = []\n",
    "    for t in range(len(test)):\n",
    "        length = len(history)\n",
    "        yhat = np.average([history[i] for i in range(length - window, length)], weights=[1,2,3,4,5])\n",
    "        obs = test[t]\n",
    "        preds.append(yhat)\n",
    "        history.append(obs)\n",
    "    \n",
    "    print('Precinct: {}'.format(precinctNum+1))\n",
    "    print('Actuals: {}'.format(test))\n",
    "    print('Predictions: {}'.format(preds))\n",
    "    # plot\n",
    "    plt.plot(test)\n",
    "    plt.plot(preds, color='red')\n",
    "    plt.show()\n",
    "    \n",
    "    testTot = testTot + test\n",
    "    predTot = predTot + preds\n",
    "error = mean_squared_error(predTot, testTot) ** .5\n",
    "print('Test RMSE: %.3f' % error)"
   ]
  },
  {
   "source": [
    "Exponential Moving Average"
   ],
   "cell_type": "markdown",
   "metadata": {}
  },
  {
   "cell_type": "code",
   "execution_count": null,
   "metadata": {},
   "outputs": [],
   "source": [
    "# prepare situation\n",
    "predTot = list()\n",
    "testTot = list()\n",
    "alpha = 0.6\n",
    "# walk forward over time steps in test\n",
    "for neighborhoodNum in range(len(train_n)):\n",
    "    \n",
    "    history = train_n[neighborhoodNum]\n",
    "    test = test_n[neighborhoodNum]\n",
    "    preds = []\n",
    "    lastPred = 0\n",
    "    for t in range(len(test)):\n",
    "        yhat = ((1-alpha)*lastPred + (alpha*history[-1]))\n",
    "        lastPred = yhat\n",
    "        obs = test[t]\n",
    "        preds.append(yhat)\n",
    "        history.append(obs)\n",
    "        \n",
    "    # plot\n",
    "    plt.plot(test)\n",
    "    plt.plot(preds, color='red')\n",
    "    plt.show()\n",
    "    \n",
    "    testTot = testTot + test\n",
    "    predTot = predTot + preds\n",
    "error = mean_squared_error(predTot, testTot) ** .5\n",
    "print('Test RMSE: %.3f' % error)"
   ]
  },
  {
   "source": [
    "## Predictions by offense - weekly"
   ],
   "cell_type": "markdown",
   "metadata": {}
  },
  {
   "cell_type": "code",
   "execution_count": null,
   "metadata": {},
   "outputs": [],
   "source": [
    "# Get a list of offenses\n",
    "offense_list = list(incidents['offense'].unique())\n",
    "print(offense_list)"
   ]
  },
  {
   "cell_type": "code",
   "execution_count": null,
   "metadata": {},
   "outputs": [],
   "source": [
    "# Clean up offense field\n",
    "offense_data = incidents['offense'].to_list()\n",
    "# print(precinct_data)\n",
    "\n",
    "offense_list = []\n",
    "\n",
    "for offense in offense_data:\n",
    "    offense_cln = offense.replace(' ', '')\n",
    "    offense_list.append(offense_cln)\n",
    "\n",
    "# print(offense_list)\n",
    "\n",
    "# Insert corrected offense back into the df\n",
    "incidents['offense'] = offense_list\n",
    "incidents['offense'] = incidents['offense']\n",
    "# incidents.head()\n",
    "\n",
    "offense_list = list(incidents['offense'].unique())\n",
    "print(offense_list)"
   ]
  },
  {
   "cell_type": "code",
   "execution_count": null,
   "metadata": {},
   "outputs": [],
   "source": [
    "# Training data by offense by week\n",
    "train_o = []\n",
    "for offense in offense_list:\n",
    "    df = incidents_train[incidents_train['offense'] == offense]\n",
    "    df_gr = df.groupby(['year', 'weekOfYear']).count()\n",
    "    train_o.append(list(df_gr['incidentDate'].values))"
   ]
  },
  {
   "cell_type": "code",
   "execution_count": null,
   "metadata": {},
   "outputs": [],
   "source": [
    "test_o = []\n",
    "for offense in offense_list:\n",
    "    df = incidents_test[incidents_test['offense'] == offense]\n",
    "    df_gr = df.groupby(['weekOfYear']).count()\n",
    "    test_o.append(list(df_gr['incidentDate'].values))"
   ]
  },
  {
   "cell_type": "code",
   "execution_count": null,
   "metadata": {},
   "outputs": [],
   "source": [
    "# Prepare situation\n",
    "window = 12\n",
    "predTot = list()\n",
    "testTot = list()\n",
    "# Walk forward over time steps in test\n",
    "for offenseNum in range(len(train_o)):\n",
    "    \n",
    "    history = train_o[offenseNum]\n",
    "    test = test_o[offenseNum]\n",
    "    preds = []\n",
    "    for t in range(len(test)):\n",
    "        length = len(history)\n",
    "        yhat = mean([history[i] for i in range(length - window, length)])\n",
    "        obs = test[t]\n",
    "        preds.append(yhat)\n",
    "        history.append(obs)\n",
    "    \n",
    "    print('Offense #: {}'.format(offenseNum+1))\n",
    "    print('Offense: {}'.format(offense_list[offenseNum]))\n",
    "    print('Actuals: {}'.format(test))\n",
    "    print('Predictions: {}'.format(preds))\n",
    "\n",
    "    # plot\n",
    "    plt.plot(test)\n",
    "    plt.plot(preds, color='red')\n",
    "    plt.xlabel('Week No.')\n",
    "    plt.ylabel('Count of crimes')\n",
    "    plt.show()\n",
    "    \n",
    "    testTot = testTot + test\n",
    "    predTot = predTot + preds\n",
    "error = mean_squared_error(predTot, testTot) ** .5\n",
    "print('Test RMSE: %.3f' % error)"
   ]
  },
  {
   "cell_type": "code",
   "execution_count": null,
   "metadata": {},
   "outputs": [],
   "source": []
  },
  {
   "cell_type": "code",
   "execution_count": null,
   "metadata": {},
   "outputs": [],
   "source": []
  },
  {
   "cell_type": "code",
   "execution_count": null,
   "metadata": {},
   "outputs": [],
   "source": [
    "# Haven't used this yet...they used it in the NN part of their project (LSTM)\n",
    "def split_sequence(sequence, n_steps):\n",
    "    X, y = list(), list()\n",
    "    for i in range(len(sequence)):\n",
    "        # find the end of this pattern\n",
    "        end_ix = i + n_steps\n",
    "        # check if we are beyond the sequence\n",
    "        if end_ix > len(sequence)-1:\n",
    "            break\n",
    "        # gather input and output parts of the pattern\n",
    "        seq_x, seq_y = sequence[i:end_ix], sequence[end_ix]\n",
    "        X.append(seq_x)\n",
    "        y.append(seq_y)\n",
    "    return array(X), array(y)"
   ]
  },
  {
   "cell_type": "code",
   "execution_count": null,
   "metadata": {},
   "outputs": [],
   "source": []
  }
 ]
}