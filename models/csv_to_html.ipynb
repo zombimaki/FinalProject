{
 "metadata": {
  "language_info": {
   "codemirror_mode": {
    "name": "ipython",
    "version": 3
   },
   "file_extension": ".py",
   "mimetype": "text/x-python",
   "name": "python",
   "nbconvert_exporter": "python",
   "pygments_lexer": "ipython3",
   "version": "3.6.12-final"
  },
  "orig_nbformat": 2,
  "kernelspec": {
   "name": "python3",
   "display_name": "Python 3",
   "language": "python"
  }
 },
 "nbformat": 4,
 "nbformat_minor": 2,
 "cells": [
  {
   "cell_type": "code",
   "execution_count": 1,
   "metadata": {},
   "outputs": [],
   "source": [
    "import pandas as pd"
   ]
  },
  {
   "cell_type": "code",
   "execution_count": 3,
   "metadata": {},
   "outputs": [
    {
     "output_type": "execute_result",
     "data": {
      "text/plain": [
       "   WeekNum  Actual  SMA  SMAvar  Prophet  Prophetvar\n",
       "0        1     402  371     -31      326         -76\n",
       "1        2     387  372     -15      330         -57\n",
       "2        3     398  367     -31      328         -70\n",
       "3        4     413  370     -43      315         -98\n",
       "4        5     387  383      -4      300         -87\n",
       "5        6     375  374      -1      296         -79\n",
       "6        7     387  381      -6      306         -81\n",
       "7        8     358  370      12      322         -36\n",
       "8        9     332  357      25      335           3\n",
       "9       10     249  361     112      341          92"
      ],
      "text/html": "<div>\n<style scoped>\n    .dataframe tbody tr th:only-of-type {\n        vertical-align: middle;\n    }\n\n    .dataframe tbody tr th {\n        vertical-align: top;\n    }\n\n    .dataframe thead th {\n        text-align: right;\n    }\n</style>\n<table border=\"1\" class=\"dataframe\">\n  <thead>\n    <tr style=\"text-align: right;\">\n      <th></th>\n      <th>WeekNum</th>\n      <th>Actual</th>\n      <th>SMA</th>\n      <th>SMAvar</th>\n      <th>Prophet</th>\n      <th>Prophetvar</th>\n    </tr>\n  </thead>\n  <tbody>\n    <tr>\n      <th>0</th>\n      <td>1</td>\n      <td>402</td>\n      <td>371</td>\n      <td>-31</td>\n      <td>326</td>\n      <td>-76</td>\n    </tr>\n    <tr>\n      <th>1</th>\n      <td>2</td>\n      <td>387</td>\n      <td>372</td>\n      <td>-15</td>\n      <td>330</td>\n      <td>-57</td>\n    </tr>\n    <tr>\n      <th>2</th>\n      <td>3</td>\n      <td>398</td>\n      <td>367</td>\n      <td>-31</td>\n      <td>328</td>\n      <td>-70</td>\n    </tr>\n    <tr>\n      <th>3</th>\n      <td>4</td>\n      <td>413</td>\n      <td>370</td>\n      <td>-43</td>\n      <td>315</td>\n      <td>-98</td>\n    </tr>\n    <tr>\n      <th>4</th>\n      <td>5</td>\n      <td>387</td>\n      <td>383</td>\n      <td>-4</td>\n      <td>300</td>\n      <td>-87</td>\n    </tr>\n    <tr>\n      <th>5</th>\n      <td>6</td>\n      <td>375</td>\n      <td>374</td>\n      <td>-1</td>\n      <td>296</td>\n      <td>-79</td>\n    </tr>\n    <tr>\n      <th>6</th>\n      <td>7</td>\n      <td>387</td>\n      <td>381</td>\n      <td>-6</td>\n      <td>306</td>\n      <td>-81</td>\n    </tr>\n    <tr>\n      <th>7</th>\n      <td>8</td>\n      <td>358</td>\n      <td>370</td>\n      <td>12</td>\n      <td>322</td>\n      <td>-36</td>\n    </tr>\n    <tr>\n      <th>8</th>\n      <td>9</td>\n      <td>332</td>\n      <td>357</td>\n      <td>25</td>\n      <td>335</td>\n      <td>3</td>\n    </tr>\n    <tr>\n      <th>9</th>\n      <td>10</td>\n      <td>249</td>\n      <td>361</td>\n      <td>112</td>\n      <td>341</td>\n      <td>92</td>\n    </tr>\n  </tbody>\n</table>\n</div>"
     },
     "metadata": {},
     "execution_count": 3
    }
   ],
   "source": [
    "summary_df = pd.read_csv(\"../resources/2021_weekly_incidents_3_14.csv\")\n",
    "summary_df"
   ]
  },
  {
   "cell_type": "code",
   "execution_count": 4,
   "metadata": {
    "tags": []
   },
   "outputs": [
    {
     "output_type": "stream",
     "name": "stdout",
     "text": [
      "<table border=\"1\" class=\"dataframe\">\n  <thead>\n    <tr style=\"text-align: right;\">\n      <th></th>\n      <th>WeekNum</th>\n      <th>Actual</th>\n      <th>SMA</th>\n      <th>SMAvar</th>\n      <th>Prophet</th>\n      <th>Prophetvar</th>\n    </tr>\n  </thead>\n  <tbody>\n    <tr>\n      <th>0</th>\n      <td>1</td>\n      <td>402</td>\n      <td>371</td>\n      <td>-31</td>\n      <td>326</td>\n      <td>-76</td>\n    </tr>\n    <tr>\n      <th>1</th>\n      <td>2</td>\n      <td>387</td>\n      <td>372</td>\n      <td>-15</td>\n      <td>330</td>\n      <td>-57</td>\n    </tr>\n    <tr>\n      <th>2</th>\n      <td>3</td>\n      <td>398</td>\n      <td>367</td>\n      <td>-31</td>\n      <td>328</td>\n      <td>-70</td>\n    </tr>\n    <tr>\n      <th>3</th>\n      <td>4</td>\n      <td>413</td>\n      <td>370</td>\n      <td>-43</td>\n      <td>315</td>\n      <td>-98</td>\n    </tr>\n    <tr>\n      <th>4</th>\n      <td>5</td>\n      <td>387</td>\n      <td>383</td>\n      <td>-4</td>\n      <td>300</td>\n      <td>-87</td>\n    </tr>\n    <tr>\n      <th>5</th>\n      <td>6</td>\n      <td>375</td>\n      <td>374</td>\n      <td>-1</td>\n      <td>296</td>\n      <td>-79</td>\n    </tr>\n    <tr>\n      <th>6</th>\n      <td>7</td>\n      <td>387</td>\n      <td>381</td>\n      <td>-6</td>\n      <td>306</td>\n      <td>-81</td>\n    </tr>\n    <tr>\n      <th>7</th>\n      <td>8</td>\n      <td>358</td>\n      <td>370</td>\n      <td>12</td>\n      <td>322</td>\n      <td>-36</td>\n    </tr>\n    <tr>\n      <th>8</th>\n      <td>9</td>\n      <td>332</td>\n      <td>357</td>\n      <td>25</td>\n      <td>335</td>\n      <td>3</td>\n    </tr>\n    <tr>\n      <th>9</th>\n      <td>10</td>\n      <td>249</td>\n      <td>361</td>\n      <td>112</td>\n      <td>341</td>\n      <td>92</td>\n    </tr>\n  </tbody>\n</table>\n"
     ]
    }
   ],
   "source": [
    "print(summary_df.to_html())"
   ]
  },
  {
   "cell_type": "code",
   "execution_count": null,
   "metadata": {},
   "outputs": [],
   "source": []
  }
 ]
}