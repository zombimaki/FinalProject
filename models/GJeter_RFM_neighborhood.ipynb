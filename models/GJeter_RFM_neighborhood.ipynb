{
 "cells": [
  {
   "cell_type": "code",
   "execution_count": 2,
   "metadata": {},
   "outputs": [
    {
     "name": "stdout",
     "output_type": "stream",
     "text": [
      "Requirement already satisfied: sklearn in c:\\users\\gjete\\anaconda3\\envs\\pythonadv\\lib\\site-packages (0.0)\n",
      "Requirement already satisfied: scikit-learn in c:\\users\\gjete\\anaconda3\\envs\\pythonadv\\lib\\site-packages (from sklearn) (0.24.1)\n",
      "Requirement already satisfied: threadpoolctl>=2.0.0 in c:\\users\\gjete\\anaconda3\\envs\\pythonadv\\lib\\site-packages (from scikit-learn->sklearn) (2.1.0)\n",
      "Requirement already satisfied: numpy>=1.13.3 in c:\\users\\gjete\\anaconda3\\envs\\pythonadv\\lib\\site-packages (from scikit-learn->sklearn) (1.19.2)\n",
      "Requirement already satisfied: joblib>=0.11 in c:\\users\\gjete\\anaconda3\\envs\\pythonadv\\lib\\site-packages (from scikit-learn->sklearn) (1.0.1)\n",
      "Requirement already satisfied: scipy>=0.19.1 in c:\\users\\gjete\\anaconda3\\envs\\pythonadv\\lib\\site-packages (from scikit-learn->sklearn) (1.5.2)\n"
     ]
    }
   ],
   "source": [
    "# Update sklearn to prevent version mismatches\n",
    "!pip install sklearn --upgrade"
   ]
  },
  {
   "cell_type": "code",
   "execution_count": 3,
   "metadata": {},
   "outputs": [
    {
     "name": "stdout",
     "output_type": "stream",
     "text": [
      "Requirement already satisfied: joblib in c:\\users\\gjete\\anaconda3\\envs\\pythonadv\\lib\\site-packages (1.0.1)\n"
     ]
    }
   ],
   "source": [
    "# install joblib. This will be used to save your model. \n",
    "# Restart your kernel after installing \n",
    "!pip install joblib"
   ]
  },
  {
   "cell_type": "code",
   "execution_count": 4,
   "metadata": {},
   "outputs": [],
   "source": [
    "## Using Decision Tree classifier to determine Neighborhood of crime\n",
    "\n",
    "import pandas as pd\n",
    "import math\n",
    "import numpy as np\n",
    "import matplotlib.pyplot as plt\n",
    "%matplotlib inline\n",
    "import seaborn as sns\n",
    "import matplotlib.gridspec as gridspec\n",
    "\n",
    "from sklearn.naive_bayes import MultinomialNB\n",
    "from sklearn.model_selection import train_test_split\n",
    "from sklearn.feature_extraction.text import CountVectorizer\n",
    "from sklearn.preprocessing import LabelEncoder, MinMaxScaler, StandardScaler\n",
    "from sklearn.metrics import classification_report"
   ]
  },
  {
   "cell_type": "code",
   "execution_count": 5,
   "metadata": {
    "scrolled": true
   },
   "outputs": [
    {
     "name": "stderr",
     "output_type": "stream",
     "text": [
      "C:\\Users\\gjete\\Anaconda3\\envs\\PythonAdv\\lib\\site-packages\\IPython\\core\\interactiveshell.py:3072: DtypeWarning: Columns (2) have mixed types.Specify dtype option on import or set low_memory=False.\n",
      "  interactivity=interactivity, compiler=compiler, result=result)\n"
     ]
    }
   ],
   "source": [
    "incidents = pd.read_csv(\"../incident_data/yearly_incident_data/all_incidents.csv\")\n",
    "incidents = incidents.dropna(axis='columns', how='all')\n",
    "incidents = incidents.dropna()\n",
    "\n",
    "# incidents.dtypes"
   ]
  },
  {
   "cell_type": "code",
   "execution_count": 6,
   "metadata": {},
   "outputs": [
    {
     "data": {
      "text/html": [
       "<div>\n",
       "<style scoped>\n",
       "    .dataframe tbody tr th:only-of-type {\n",
       "        vertical-align: middle;\n",
       "    }\n",
       "\n",
       "    .dataframe tbody tr th {\n",
       "        vertical-align: top;\n",
       "    }\n",
       "\n",
       "    .dataframe thead th {\n",
       "        text-align: right;\n",
       "    }\n",
       "</style>\n",
       "<table border=\"1\" class=\"dataframe\">\n",
       "  <thead>\n",
       "    <tr style=\"text-align: right;\">\n",
       "      <th></th>\n",
       "      <th>publicAddress</th>\n",
       "      <th>caseNumber</th>\n",
       "      <th>precinct</th>\n",
       "      <th>offense</th>\n",
       "      <th>description</th>\n",
       "      <th>ucrCode</th>\n",
       "      <th>lat</th>\n",
       "      <th>lon</th>\n",
       "      <th>neighborhood</th>\n",
       "      <th>incidentDate</th>\n",
       "      <th>incidentTime</th>\n",
       "      <th>month</th>\n",
       "      <th>weekday</th>\n",
       "      <th>day</th>\n",
       "    </tr>\n",
       "  </thead>\n",
       "  <tbody>\n",
       "    <tr>\n",
       "      <th>0</th>\n",
       "      <td>0056Xx Lyndale Av S</td>\n",
       "      <td>MP2010000051</td>\n",
       "      <td>5</td>\n",
       "      <td>CSCR</td>\n",
       "      <td>Crim Sex Cond-Rape</td>\n",
       "      <td>3.0</td>\n",
       "      <td>44.900291</td>\n",
       "      <td>-93.288239</td>\n",
       "      <td>Windom</td>\n",
       "      <td>2010-01-01</td>\n",
       "      <td>00:30</td>\n",
       "      <td>1</td>\n",
       "      <td>4</td>\n",
       "      <td>1</td>\n",
       "    </tr>\n",
       "    <tr>\n",
       "      <th>1</th>\n",
       "      <td>0001Xx 62 St W</td>\n",
       "      <td>MP2010000099</td>\n",
       "      <td>5</td>\n",
       "      <td>ROBPAG</td>\n",
       "      <td>Robbery Per Agg</td>\n",
       "      <td>4.0</td>\n",
       "      <td>44.890636</td>\n",
       "      <td>-93.280041</td>\n",
       "      <td>Windom</td>\n",
       "      <td>2010-01-01</td>\n",
       "      <td>01:05</td>\n",
       "      <td>1</td>\n",
       "      <td>4</td>\n",
       "      <td>1</td>\n",
       "    </tr>\n",
       "    <tr>\n",
       "      <th>2</th>\n",
       "      <td>0039Xx 5 Av S</td>\n",
       "      <td>MP2010000373</td>\n",
       "      <td>3</td>\n",
       "      <td>BURGD</td>\n",
       "      <td>Burglary Of Dwelling</td>\n",
       "      <td>6.0</td>\n",
       "      <td>44.931448</td>\n",
       "      <td>-93.268841</td>\n",
       "      <td>Bryant</td>\n",
       "      <td>2010-01-01</td>\n",
       "      <td>04:18</td>\n",
       "      <td>1</td>\n",
       "      <td>4</td>\n",
       "      <td>1</td>\n",
       "    </tr>\n",
       "    <tr>\n",
       "      <th>3</th>\n",
       "      <td>0013Xx Nicollet Av S</td>\n",
       "      <td>MP2010000305</td>\n",
       "      <td>1</td>\n",
       "      <td>ASLT2</td>\n",
       "      <td>Asslt W/Dngrs Weapon</td>\n",
       "      <td>5.0</td>\n",
       "      <td>44.970506</td>\n",
       "      <td>-93.277714</td>\n",
       "      <td>Loring Park</td>\n",
       "      <td>2010-01-01</td>\n",
       "      <td>03:00</td>\n",
       "      <td>1</td>\n",
       "      <td>4</td>\n",
       "      <td>1</td>\n",
       "    </tr>\n",
       "    <tr>\n",
       "      <th>4</th>\n",
       "      <td>0034Xx Oliver Av N</td>\n",
       "      <td>MP2010000229</td>\n",
       "      <td>4</td>\n",
       "      <td>BURGD</td>\n",
       "      <td>Burglary Of Dwelling</td>\n",
       "      <td>6.0</td>\n",
       "      <td>45.017746</td>\n",
       "      <td>-93.306988</td>\n",
       "      <td>Folwell</td>\n",
       "      <td>2010-01-01</td>\n",
       "      <td>02:23</td>\n",
       "      <td>1</td>\n",
       "      <td>4</td>\n",
       "      <td>1</td>\n",
       "    </tr>\n",
       "  </tbody>\n",
       "</table>\n",
       "</div>"
      ],
      "text/plain": [
       "          publicAddress    caseNumber precinct offense           description  \\\n",
       "0   0056Xx Lyndale Av S  MP2010000051        5    CSCR    Crim Sex Cond-Rape   \n",
       "1        0001Xx 62 St W  MP2010000099        5  ROBPAG       Robbery Per Agg   \n",
       "2         0039Xx 5 Av S  MP2010000373        3   BURGD  Burglary Of Dwelling   \n",
       "3  0013Xx Nicollet Av S  MP2010000305        1   ASLT2  Asslt W/Dngrs Weapon   \n",
       "4    0034Xx Oliver Av N  MP2010000229        4   BURGD  Burglary Of Dwelling   \n",
       "\n",
       "  ucrCode        lat        lon neighborhood incidentDate incidentTime  month  \\\n",
       "0     3.0  44.900291 -93.288239       Windom   2010-01-01        00:30      1   \n",
       "1     4.0  44.890636 -93.280041       Windom   2010-01-01        01:05      1   \n",
       "2     6.0  44.931448 -93.268841       Bryant   2010-01-01        04:18      1   \n",
       "3     5.0  44.970506 -93.277714  Loring Park   2010-01-01        03:00      1   \n",
       "4     6.0  45.017746 -93.306988      Folwell   2010-01-01        02:23      1   \n",
       "\n",
       "   weekday  day  \n",
       "0        4    1  \n",
       "1        4    1  \n",
       "2        4    1  \n",
       "3        4    1  \n",
       "4        4    1  "
      ]
     },
     "execution_count": 6,
     "metadata": {},
     "output_type": "execute_result"
    }
   ],
   "source": [
    "# Set features & correct data type. This will also be used as your x values.\n",
    "\n",
    "incidents['incidentDate'] = pd.to_datetime(incidents['incidentDate'])\n",
    "incidents['precinct'] = incidents['precinct'].astype(str)\n",
    "incidents['ucrCode'] = incidents['ucrCode'].astype(str)\n",
    "\n",
    "incidents['incidentDate'] = pd.to_datetime(incidents['incidentDate'], format='%Y/%m/%d')\n",
    "incidents['month']= incidents['incidentDate'].dt.month \n",
    "incidents['weekday'] =  incidents['incidentDate'].dt.dayofweek\n",
    "incidents['day'] =  incidents['incidentDate'].dt.day\n",
    "\n",
    "incidents.head()"
   ]
  },
  {
   "cell_type": "code",
   "execution_count": 7,
   "metadata": {},
   "outputs": [
    {
     "data": {
      "text/html": [
       "<div>\n",
       "<style scoped>\n",
       "    .dataframe tbody tr th:only-of-type {\n",
       "        vertical-align: middle;\n",
       "    }\n",
       "\n",
       "    .dataframe tbody tr th {\n",
       "        vertical-align: top;\n",
       "    }\n",
       "\n",
       "    .dataframe thead th {\n",
       "        text-align: right;\n",
       "    }\n",
       "</style>\n",
       "<table border=\"1\" class=\"dataframe\">\n",
       "  <thead>\n",
       "    <tr style=\"text-align: right;\">\n",
       "      <th></th>\n",
       "      <th>publicAddress</th>\n",
       "      <th>caseNumber</th>\n",
       "      <th>precinct</th>\n",
       "      <th>offense</th>\n",
       "      <th>description</th>\n",
       "      <th>ucrCode</th>\n",
       "      <th>lat</th>\n",
       "      <th>lon</th>\n",
       "      <th>neighborhood</th>\n",
       "      <th>incidentDate</th>\n",
       "      <th>incidentTime</th>\n",
       "      <th>month</th>\n",
       "      <th>weekday</th>\n",
       "      <th>day</th>\n",
       "    </tr>\n",
       "  </thead>\n",
       "  <tbody>\n",
       "    <tr>\n",
       "      <th>169527</th>\n",
       "      <td>0004Xx 46 St E</td>\n",
       "      <td>MP2018066210</td>\n",
       "      <td>3</td>\n",
       "      <td>BURGB</td>\n",
       "      <td>Burglary Of Business</td>\n",
       "      <td>6.0</td>\n",
       "      <td>44.919705</td>\n",
       "      <td>-93.269608</td>\n",
       "      <td>Regina</td>\n",
       "      <td>2018-03-02</td>\n",
       "      <td>03:37</td>\n",
       "      <td>3</td>\n",
       "      <td>4</td>\n",
       "      <td>2</td>\n",
       "    </tr>\n",
       "    <tr>\n",
       "      <th>169528</th>\n",
       "      <td>0010Xx 8 St Se</td>\n",
       "      <td>MP2018068876</td>\n",
       "      <td>2</td>\n",
       "      <td>AUTOTH</td>\n",
       "      <td>Motor Vehicle Theft</td>\n",
       "      <td>8.0</td>\n",
       "      <td>44.986351</td>\n",
       "      <td>-93.237514</td>\n",
       "      <td>Marcy Holmes</td>\n",
       "      <td>2018-03-03</td>\n",
       "      <td>23:00</td>\n",
       "      <td>3</td>\n",
       "      <td>5</td>\n",
       "      <td>3</td>\n",
       "    </tr>\n",
       "    <tr>\n",
       "      <th>169529</th>\n",
       "      <td>0008Xx 13 Av Se</td>\n",
       "      <td>MP2018069260</td>\n",
       "      <td>2</td>\n",
       "      <td>TFMV</td>\n",
       "      <td>Theft From Motr Vehc</td>\n",
       "      <td>7.0</td>\n",
       "      <td>44.985314</td>\n",
       "      <td>-93.233748</td>\n",
       "      <td>Marcy Holmes</td>\n",
       "      <td>2018-03-04</td>\n",
       "      <td>02:00</td>\n",
       "      <td>3</td>\n",
       "      <td>6</td>\n",
       "      <td>4</td>\n",
       "    </tr>\n",
       "    <tr>\n",
       "      <th>169530</th>\n",
       "      <td>0002Xx Hennepin Av S</td>\n",
       "      <td>MP2018066884</td>\n",
       "      <td>1</td>\n",
       "      <td>SHOPLF</td>\n",
       "      <td>Shoplifting</td>\n",
       "      <td>7.0</td>\n",
       "      <td>44.982576</td>\n",
       "      <td>-93.268417</td>\n",
       "      <td>North Loop</td>\n",
       "      <td>2018-03-02</td>\n",
       "      <td>18:11</td>\n",
       "      <td>3</td>\n",
       "      <td>4</td>\n",
       "      <td>2</td>\n",
       "    </tr>\n",
       "    <tr>\n",
       "      <th>169531</th>\n",
       "      <td>0015Xx New Brighton Bl</td>\n",
       "      <td>MP2018069895</td>\n",
       "      <td>2</td>\n",
       "      <td>THEFT</td>\n",
       "      <td>Other Theft</td>\n",
       "      <td>7.0</td>\n",
       "      <td>45.003639</td>\n",
       "      <td>-93.228834</td>\n",
       "      <td>Northeast Park</td>\n",
       "      <td>2018-03-05</td>\n",
       "      <td>14:23</td>\n",
       "      <td>3</td>\n",
       "      <td>0</td>\n",
       "      <td>5</td>\n",
       "    </tr>\n",
       "  </tbody>\n",
       "</table>\n",
       "</div>"
      ],
      "text/plain": [
       "                  publicAddress    caseNumber precinct offense  \\\n",
       "169527           0004Xx 46 St E  MP2018066210        3   BURGB   \n",
       "169528           0010Xx 8 St Se  MP2018068876        2  AUTOTH   \n",
       "169529          0008Xx 13 Av Se  MP2018069260        2    TFMV   \n",
       "169530     0002Xx Hennepin Av S  MP2018066884        1  SHOPLF   \n",
       "169531  0015Xx New Brighton Bl   MP2018069895        2   THEFT   \n",
       "\n",
       "                 description ucrCode        lat        lon    neighborhood  \\\n",
       "169527  Burglary Of Business     6.0  44.919705 -93.269608          Regina   \n",
       "169528   Motor Vehicle Theft     8.0  44.986351 -93.237514    Marcy Holmes   \n",
       "169529  Theft From Motr Vehc     7.0  44.985314 -93.233748    Marcy Holmes   \n",
       "169530           Shoplifting     7.0  44.982576 -93.268417      North Loop   \n",
       "169531           Other Theft     7.0  45.003639 -93.228834  Northeast Park   \n",
       "\n",
       "       incidentDate incidentTime  month  weekday  day  \n",
       "169527   2018-03-02        03:37      3        4    2  \n",
       "169528   2018-03-03        23:00      3        5    3  \n",
       "169529   2018-03-04        02:00      3        6    4  \n",
       "169530   2018-03-02        18:11      3        4    2  \n",
       "169531   2018-03-05        14:23      3        0    5  "
      ]
     },
     "execution_count": 7,
     "metadata": {},
     "output_type": "execute_result"
    }
   ],
   "source": [
    "# Limit to data range to two years 2018 & 2019 \n",
    "\n",
    "mask = (incidents['incidentDate'] > '2017-12-31') & (incidents['incidentDate'] < '2020-01-01')\n",
    "\n",
    "incidents = incidents.loc[mask]\n",
    "incidents.head()"
   ]
  },
  {
   "cell_type": "code",
   "execution_count": 8,
   "metadata": {},
   "outputs": [],
   "source": [
    "#Determime crime frequency by day for histograms\n",
    "\n",
    "freq_day = incidents.groupby(['incidentDate']).count()\n",
    "freq_neighborhood = incidents.groupby(['neighborhood']).agg(['count'])\n",
    "freq_precinct = incidents.groupby(['precinct']).count() \n",
    "freq_offense = incidents.groupby(['offense']).count()\n",
    "\n",
    "# freq_offense\n",
    "# freq_neighborhood\n",
    "# freq_precinct\n",
    "# freq_day"
   ]
  },
  {
   "cell_type": "code",
   "execution_count": 10,
   "metadata": {
    "scrolled": true
   },
   "outputs": [
    {
     "name": "stdout",
     "output_type": "stream",
     "text": [
      "Average Daily Frequency of Crime = 51.205479452054796\n"
     ]
    },
    {
     "data": {
      "image/png": "[encoded data removed]",
      "text/plain": [
       "<Figure size 1152x288 with 1 Axes>"
      ]
     },
     "metadata": {
      "needs_background": "light"
     },
     "output_type": "display_data"
    },
    {
     "data": {
      "image/png": "[encoded data removed]",
      "text/plain": [
       "<Figure size 1152x288 with 1 Axes>"
      ]
     },
     "metadata": {
      "needs_background": "light"
     },
     "output_type": "display_data"
    },
    {
     "data": {
      "image/png": "[encoded data removed]",
      "text/plain": [
       "<Figure size 1152x288 with 1 Axes>"
      ]
     },
     "metadata": {
      "needs_background": "light"
     },
     "output_type": "display_data"
    }
   ],
   "source": [
    "#Histograms by variables\n",
    "\n",
    "print(\"Average Daily Frequency of Crime = {}\"\n",
    "      .format(np.average(freq_day)))\n",
    "\n",
    "fig_1, (ax1) = plt.subplots(ncols=1, figsize=(16, 4))\n",
    "ax1= freq_neighborhood['caseNumber'].hist(bins=30, log=True, ax=ax1)\n",
    "plt.title(\"Crime Frequency by Neighborhood\");\n",
    "plt.savefig('images/Histo_Neighborhood.png')\n",
    "\n",
    "fig_2, (ax2) = plt.subplots(ncols=1, figsize=(16, 4))\n",
    "ax2= freq_offense['caseNumber'].hist(bins=30, log=True, ax=ax2)\n",
    "plt.title(\"Crime Frequency by Offense\");\n",
    "plt.savefig('images/Histo_Offense.png')\n",
    "\n",
    "fig_3, (ax0) = plt.subplots(ncols=1, figsize=(16, 4))\n",
    "ax0 = freq_day['caseNumber'].hist(bins=30, log=True, ax=ax0)\n",
    "plt.title(\"Crime Frequency by Day\");\n",
    "plt.savefig('images/Histo_Day.png')\n"
   ]
  },
  {
   "cell_type": "code",
   "execution_count": 10,
   "metadata": {},
   "outputs": [
    {
     "data": {
      "image/png": "[encoded data removed]",
      "text/plain": [
       "<Figure size 720x432 with 1 Axes>"
      ]
     },
     "metadata": {
      "needs_background": "light"
     },
     "output_type": "display_data"
    }
   ],
   "source": [
    "#run chart of crimes per day\n",
    "\n",
    "plt.rc('font', size=12)\n",
    "fig_4, ax = plt.subplots(figsize=(10, 6))\n",
    "\n",
    "# Specify how our lines should look\n",
    "ax.plot(freq_day.index, freq_day.caseNumber, color='tab:orange', label='Number of Cases')\n",
    "\n",
    "# Same as above\n",
    "ax.set_xlabel('Time')\n",
    "ax.set_ylabel('Count')\n",
    "ax.set_title('Police Incidents')\n",
    "ax.legend(loc='upper left');\n"
   ]
  },
  {
   "cell_type": "code",
   "execution_count": 11,
   "metadata": {},
   "outputs": [
    {
     "name": "stdout",
     "output_type": "stream",
     "text": [
      "(37380, 6) (37380,)\n"
     ]
    }
   ],
   "source": [
    "X = incidents[['offense', 'precinct', 'ucrCode', 'month', 'weekday', 'day']]\n",
    "y = incidents['neighborhood']\n",
    "\n",
    "print(X.shape, y.shape)\n",
    "# y"
   ]
  },
  {
   "cell_type": "code",
   "execution_count": 12,
   "metadata": {},
   "outputs": [],
   "source": [
    "# Spliting the data\n",
    "\n",
    "from sklearn.model_selection import train_test_split\n",
    "\n",
    "X = pd.get_dummies(X)\n",
    "y = pd.get_dummies(y)\n",
    "\n",
    "X_train, X_test, y_train, y_test = train_test_split(X, y, test_size=0.30, random_state=0)\n",
    "\n",
    "# X_train.dtypes"
   ]
  },
  {
   "cell_type": "code",
   "execution_count": 13,
   "metadata": {},
   "outputs": [
    {
     "name": "stdout",
     "output_type": "stream",
     "text": [
      "(26166, 82) (26166, 88)\n"
     ]
    }
   ],
   "source": [
    "# scaler the data set.  Poisson distribution requires non-negative numbers, so using MinMax Scaler\n",
    "\n",
    "from sklearn.preprocessing import MinMaxScaler\n",
    "X_scaler = MinMaxScaler().fit(X_train)\n",
    "y_scaler = MinMaxScaler().fit(y_train)\n",
    "\n",
    "X_train_scaled = X_scaler.transform(X_train)\n",
    "X_test_scaled = X_scaler.transform(X_test)\n",
    "y_train_scaled = y_scaler.transform(y_train)\n",
    "y_test_scaled = y_scaler.transform(y_test)\n",
    "\n",
    "# print(y_test_scaled)\n",
    "print(X_train_scaled.shape, y_train_scaled.shape)"
   ]
  },
  {
   "cell_type": "code",
   "execution_count": 14,
   "metadata": {},
   "outputs": [
    {
     "data": {
      "text/plain": [
       "0.12100945247012662"
      ]
     },
     "execution_count": 14,
     "metadata": {},
     "output_type": "execute_result"
    }
   ],
   "source": [
    "from sklearn.ensemble import RandomForestClassifier\n",
    "\n",
    "\n",
    "rf = RandomForestClassifier(random_state=0)\n",
    "\n",
    "rf = rf.fit(X_train_scaled, y_train)\n",
    "rf.score(X_test_scaled, y_test)"
   ]
  },
  {
   "cell_type": "code",
   "execution_count": 15,
   "metadata": {},
   "outputs": [
    {
     "name": "stdout",
     "output_type": "stream",
     "text": [
      "Mean Absolute Error: Armatage          0.87\n",
      "Audubon Park      1.71\n",
      "Bancroft          1.39\n",
      "Beltrami          0.48\n",
      "Bottineau         1.14\n",
      "                 ...  \n",
      "West Calhoun      1.18\n",
      "Whittier         10.21\n",
      "Willard - Hay     4.58\n",
      "Windom            1.98\n",
      "Windom Park       1.69\n",
      "Length: 88, dtype: float64 degrees.\n"
     ]
    }
   ],
   "source": [
    "\n",
    "predictions = rf.predict(X_test_scaled)\n",
    "# print(predictions)\n",
    "\n",
    "errors = abs(predictions - y_test)\n",
    "print('Mean Absolute Error:', round(np.mean(errors), 2), 'degrees.');\n"
   ]
  },
  {
   "cell_type": "code",
   "execution_count": 16,
   "metadata": {},
   "outputs": [
    {
     "name": "stdout",
     "output_type": "stream",
     "text": [
      "Training Data Score: 0.5747152793701751\n",
      "Testing Data Score: 0.12100945247012662\n"
     ]
    }
   ],
   "source": [
    "print(f\"Training Data Score: {rf.score(X_train_scaled, y_train)}\")\n",
    "print(f\"Testing Data Score: {rf.score(X_test_scaled, y_test)}\")\n"
   ]
  },
  {
   "cell_type": "code",
   "execution_count": 17,
   "metadata": {},
   "outputs": [
    {
     "name": "stdout",
     "output_type": "stream",
     "text": [
      "Variable: day                  Importance: 0.39\n",
      "Variable: month                Importance: 0.22\n",
      "Variable: weekday              Importance: 0.16\n",
      "Variable: precinct_1           Importance: 0.05\n",
      "Variable: precinct_5           Importance: 0.03\n",
      "Variable: precinct_2           Importance: 0.02\n",
      "Variable: precinct_3           Importance: 0.02\n",
      "Variable: precinct_4           Importance: 0.02\n",
      "Variable: offense_SHOPLF       Importance: 0.01\n",
      "Variable: offense_THEFT        Importance: 0.01\n",
      "Variable: offense_ARSON        Importance: 0.0\n",
      "Variable: offense_ARSON        Importance: 0.0\n",
      "Variable: offense_ASLT1        Importance: 0.0\n",
      "Variable: offense_ASLT1        Importance: 0.0\n",
      "Variable: offense_ASLT2        Importance: 0.0\n",
      "Variable: offense_ASLT2        Importance: 0.0\n",
      "Variable: offense_ASLT3        Importance: 0.0\n",
      "Variable: offense_ASLT3        Importance: 0.0\n",
      "Variable: offense_ASLT4        Importance: 0.0\n",
      "Variable: offense_ASLT4        Importance: 0.0\n",
      "Variable: offense_AUTOTH       Importance: 0.0\n",
      "Variable: offense_AUTOTH       Importance: 0.0\n",
      "Variable: offense_BIKETF       Importance: 0.0\n",
      "Variable: offense_BIKETF       Importance: 0.0\n",
      "Variable: offense_BURGB        Importance: 0.0\n",
      "Variable: offense_BURGB        Importance: 0.0\n",
      "Variable: offense_BURGD        Importance: 0.0\n",
      "Variable: offense_BURGD        Importance: 0.0\n",
      "Variable: offense_COINOP       Importance: 0.0\n",
      "Variable: offense_COMPUT       Importance: 0.0\n",
      "Variable: offense_COMPUT       Importance: 0.0\n",
      "Variable: offense_CSCR         Importance: 0.0\n",
      "Variable: offense_CSCR         Importance: 0.0\n",
      "Variable: offense_DASLT1       Importance: 0.0\n",
      "Variable: offense_DASLT2       Importance: 0.0\n",
      "Variable: offense_DASLT2       Importance: 0.0\n",
      "Variable: offense_DASLT3       Importance: 0.0\n",
      "Variable: offense_DASLT3       Importance: 0.0\n",
      "Variable: offense_DASTR        Importance: 0.0\n",
      "Variable: offense_DASTR        Importance: 0.0\n",
      "Variable: offense_DISARM       Importance: 0.0\n",
      "Variable: offense_DISARM       Importance: 0.0\n",
      "Variable: offense_LOOT         Importance: 0.0\n",
      "Variable: offense_MURDR        Importance: 0.0\n",
      "Variable: offense_MURDR        Importance: 0.0\n",
      "Variable: offense_MVTHFT       Importance: 0.0\n",
      "Variable: offense_MVTHFT       Importance: 0.0\n",
      "Variable: offense_NOPAY        Importance: 0.0\n",
      "Variable: offense_NOPAY        Importance: 0.0\n",
      "Variable: offense_ONLTHT       Importance: 0.0\n",
      "Variable: offense_ONLTHT       Importance: 0.0\n",
      "Variable: offense_PETIT        Importance: 0.0\n",
      "Variable: offense_POCKET       Importance: 0.0\n",
      "Variable: offense_ROBBIZ       Importance: 0.0\n",
      "Variable: offense_ROBBIZ       Importance: 0.0\n",
      "Variable: offense_ROBPAG       Importance: 0.0\n",
      "Variable: offense_ROBPAG       Importance: 0.0\n",
      "Variable: offense_ROBPER       Importance: 0.0\n",
      "Variable: offense_ROBPER       Importance: 0.0\n",
      "Variable: offense_SCRAP        Importance: 0.0\n",
      "Variable: offense_SHOPLF       Importance: 0.0\n",
      "Variable: offense_TBLDG        Importance: 0.0\n",
      "Variable: offense_TBLDG        Importance: 0.0\n",
      "Variable: offense_TFMV         Importance: 0.0\n",
      "Variable: offense_TFMV         Importance: 0.0\n",
      "Variable: offense_TFPER        Importance: 0.0\n",
      "Variable: offense_TFPER        Importance: 0.0\n",
      "Variable: offense_THEFT        Importance: 0.0\n",
      "Variable: offense_THFTSW       Importance: 0.0\n",
      "Variable: offense_THFTSW       Importance: 0.0\n",
      "Variable: offense_TMVP         Importance: 0.0\n",
      "Variable: offense_TMVP         Importance: 0.0\n",
      "Variable: precinct_18          Importance: 0.0\n",
      "Variable: precinct_99          Importance: 0.0\n",
      "Variable: ucrCode_1.0          Importance: 0.0\n",
      "Variable: ucrCode_10.0         Importance: 0.0\n",
      "Variable: ucrCode_3.0          Importance: 0.0\n",
      "Variable: ucrCode_4.0          Importance: 0.0\n",
      "Variable: ucrCode_5.0          Importance: 0.0\n",
      "Variable: ucrCode_6.0          Importance: 0.0\n",
      "Variable: ucrCode_7.0          Importance: 0.0\n",
      "Variable: ucrCode_8.0          Importance: 0.0\n"
     ]
    }
   ],
   "source": [
    "# Get numerical feature importances\n",
    "importances = list(rf.feature_importances_)\n",
    "\n",
    "feature_list = list(X.columns)\n",
    "# List of tuples with variable and importance\n",
    "feature_importances = [(feature, round(importance, 2)) for feature, importance in zip(feature_list, importances)]\n",
    "# Sort the feature importances by most important first\n",
    "feature_importances = sorted(feature_importances, key = lambda x: x[1], reverse = True)\n",
    "# Print out the feature and importances \n",
    "[print('Variable: {:20} Importance: {}'.format(*pair)) for pair in feature_importances];"
   ]
  },
  {
   "cell_type": "code",
   "execution_count": 19,
   "metadata": {},
   "outputs": [
    {
     "data": {
      "image/png": "[encoded data removed]",
      "text/plain": [
       "<Figure size 720x720 with 1 Axes>"
      ]
     },
     "metadata": {
      "needs_background": "light"
     },
     "output_type": "display_data"
    }
   ],
   "source": [
    "feature_sr = pd.Series(rf.feature_importances_, index=X.columns).\\\n",
    "    nlargest(10).\\\n",
    "    sort_values(ascending=True).\\\n",
    "    plot(kind='barh',title=\"Top 10 Features by Importance\", figsize=(10, 10))\n",
    "\n",
    "##feature_sr.plot().get_figure().savefig('../resources/rf_top_10_features.png')\n",
    "plt.savefig('../resources/rf_top_10_features_model_1_fig_2.png')"
   ]
  },
  {
   "cell_type": "code",
   "execution_count": 20,
   "metadata": {},
   "outputs": [
    {
     "name": "stdout",
     "output_type": "stream",
     "text": [
      "Mean Absolute Error: Armatage         0.01\n",
      "Audubon Park     0.01\n",
      "Bancroft         0.01\n",
      "Beltrami         0.00\n",
      "Bottineau        0.01\n",
      "                 ... \n",
      "West Calhoun     0.01\n",
      "Whittier         0.07\n",
      "Willard - Hay    0.03\n",
      "Windom           0.02\n",
      "Windom Park      0.01\n",
      "Length: 88, dtype: float64 degrees.\n",
      "Accuracy: Armatage        -inf\n",
      "Audubon Park    -inf\n",
      "Bancroft        -inf\n",
      "Beltrami        -inf\n",
      "Bottineau       -inf\n",
      "                ... \n",
      "West Calhoun    -inf\n",
      "Whittier        -inf\n",
      "Willard - Hay   -inf\n",
      "Windom          -inf\n",
      "Windom Park     -inf\n",
      "Length: 88, dtype: float64 %.\n"
     ]
    }
   ],
   "source": [
    "#New random forest with top 10 most impactful variables to create new model.\n",
    "\n",
    "from sklearn.ensemble import RandomForestRegressor\n",
    "\n",
    "rf_most_important = RandomForestRegressor(n_estimators= 750, random_state=42)\n",
    "\n",
    "# Extract the two most important features\n",
    "important_indices = [feature_list.index('day'), feature_list.index('weekday'), feature_list.index('month'), feature_list.index('precinct_1'), feature_list.index('precinct_2'), feature_list.index('precinct_3'), feature_list.index('precinct_4'), feature_list.index('precinct_5'), feature_list.index('offense_SHOPLF'), feature_list.index('offense_THEFT')]\n",
    "train_important = X_train_scaled[:, important_indices]\n",
    "test_important = X_test_scaled[:, important_indices]\n",
    "\n",
    "# Train the random forest\n",
    "rf_most_important.fit(train_important, y_train)\n",
    "\n",
    "# Make predictions and determine the error\n",
    "predictions = rf_most_important.predict(test_important)\n",
    "errors = abs(predictions - y_test)\n",
    "\n",
    "# Display the performance metrics\n",
    "print('Mean Absolute Error:', round(np.mean(errors), 2), 'degrees.')\n",
    "mape = np.mean(100 * (errors / y_test))\n",
    "accuracy = 100 - mape\n",
    "print('Accuracy:', round(accuracy, 2), '%.')"
   ]
  },
  {
   "cell_type": "code",
   "execution_count": 29,
   "metadata": {},
   "outputs": [],
   "source": [
    "# Create the GridSearchCV model\n",
    "from sklearn.model_selection import GridSearchCV\n",
    "param_grid = {'n_estimators': [750, 1000, 1250],\n",
    "              'max_depth': [1, 10, 50],\n",
    "              'criterion': ['gini', 'entropy']}\n",
    "grid = GridSearchCV(rf, param_grid, verbose=3)"
   ]
  },
  {
   "cell_type": "code",
   "execution_count": 30,
   "metadata": {},
   "outputs": [
    {
     "name": "stdout",
     "output_type": "stream",
     "text": [
      "Fitting 5 folds for each of 18 candidates, totalling 90 fits\n",
      "[CV 1/5] END ..criterion=gini, max_depth=1, n_estimators=750; total time= 2.2min\n",
      "[CV 2/5] END ..criterion=gini, max_depth=1, n_estimators=750; total time= 2.2min\n",
      "[CV 3/5] END ..criterion=gini, max_depth=1, n_estimators=750; total time= 2.2min\n",
      "[CV 4/5] END ..criterion=gini, max_depth=1, n_estimators=750; total time= 2.2min\n",
      "[CV 5/5] END ..criterion=gini, max_depth=1, n_estimators=750; total time= 2.3min\n",
      "[CV 1/5] END .criterion=gini, max_depth=1, n_estimators=1000; total time= 3.0min\n",
      "[CV 2/5] END .criterion=gini, max_depth=1, n_estimators=1000; total time= 3.0min\n",
      "[CV 3/5] END .criterion=gini, max_depth=1, n_estimators=1000; total time= 3.0min\n",
      "[CV 4/5] END .criterion=gini, max_depth=1, n_estimators=1000; total time= 3.0min\n",
      "[CV 5/5] END .criterion=gini, max_depth=1, n_estimators=1000; total time= 3.0min\n",
      "[CV 1/5] END .criterion=gini, max_depth=1, n_estimators=1250; total time= 3.7min\n",
      "[CV 2/5] END .criterion=gini, max_depth=1, n_estimators=1250; total time= 3.7min\n",
      "[CV 3/5] END .criterion=gini, max_depth=1, n_estimators=1250; total time= 3.6min\n",
      "[CV 4/5] END .criterion=gini, max_depth=1, n_estimators=1250; total time= 3.7min\n",
      "[CV 5/5] END .criterion=gini, max_depth=1, n_estimators=1250; total time= 3.7min\n",
      "[CV 1/5] END .criterion=gini, max_depth=10, n_estimators=750; total time= 3.0min\n",
      "[CV 2/5] END .criterion=gini, max_depth=10, n_estimators=750; total time= 3.0min\n",
      "[CV 3/5] END .criterion=gini, max_depth=10, n_estimators=750; total time= 3.5min\n",
      "[CV 4/5] END .criterion=gini, max_depth=10, n_estimators=750; total time= 3.2min\n",
      "[CV 5/5] END .criterion=gini, max_depth=10, n_estimators=750; total time= 3.1min\n",
      "[CV 1/5] END criterion=gini, max_depth=10, n_estimators=1000; total time= 4.0min\n",
      "[CV 2/5] END criterion=gini, max_depth=10, n_estimators=1000; total time= 4.0min\n",
      "[CV 3/5] END criterion=gini, max_depth=10, n_estimators=1000; total time= 4.0min\n",
      "[CV 4/5] END criterion=gini, max_depth=10, n_estimators=1000; total time= 4.1min\n",
      "[CV 5/5] END criterion=gini, max_depth=10, n_estimators=1000; total time= 4.1min\n",
      "[CV 1/5] END criterion=gini, max_depth=10, n_estimators=1250; total time= 5.1min\n",
      "[CV 2/5] END criterion=gini, max_depth=10, n_estimators=1250; total time= 5.6min\n",
      "[CV 3/5] END criterion=gini, max_depth=10, n_estimators=1250; total time= 4.2min\n",
      "[CV 4/5] END criterion=gini, max_depth=10, n_estimators=1250; total time= 3.8min\n",
      "[CV 5/5] END criterion=gini, max_depth=10, n_estimators=1250; total time= 3.8min\n",
      "[CV 1/5] END .criterion=gini, max_depth=50, n_estimators=750; total time= 5.2min\n",
      "[CV 2/5] END .criterion=gini, max_depth=50, n_estimators=750; total time= 5.2min\n",
      "[CV 3/5] END .criterion=gini, max_depth=50, n_estimators=750; total time= 4.7min\n",
      "[CV 4/5] END .criterion=gini, max_depth=50, n_estimators=750; total time= 4.7min\n",
      "[CV 5/5] END .criterion=gini, max_depth=50, n_estimators=750; total time= 5.2min\n",
      "[CV 1/5] END criterion=gini, max_depth=50, n_estimators=1000; total time= 6.4min\n",
      "[CV 2/5] END criterion=gini, max_depth=50, n_estimators=1000; total time= 6.4min\n",
      "[CV 3/5] END criterion=gini, max_depth=50, n_estimators=1000; total time= 6.5min\n",
      "[CV 4/5] END criterion=gini, max_depth=50, n_estimators=1000; total time= 6.4min\n",
      "[CV 5/5] END criterion=gini, max_depth=50, n_estimators=1000; total time= 6.4min\n"
     ]
    },
    {
     "name": "stderr",
     "output_type": "stream",
     "text": [
      "C:\\Users\\gjete\\Anaconda3\\envs\\PythonAdv\\lib\\site-packages\\sklearn\\model_selection\\_validation.py:614: FitFailedWarning: Estimator fit failed. The score on this train-test partition for these parameters will be set to nan. Details: \n",
      "Traceback (most recent call last):\n",
      "  File \"C:\\Users\\gjete\\Anaconda3\\envs\\PythonAdv\\lib\\site-packages\\sklearn\\model_selection\\_validation.py\", line 593, in _fit_and_score\n",
      "    estimator.fit(X_train, y_train, **fit_params)\n",
      "  File \"C:\\Users\\gjete\\Anaconda3\\envs\\PythonAdv\\lib\\site-packages\\sklearn\\ensemble\\_forest.py\", line 393, in fit\n",
      "    for i, t in enumerate(trees))\n",
      "  File \"C:\\Users\\gjete\\Anaconda3\\envs\\PythonAdv\\lib\\site-packages\\joblib\\parallel.py\", line 1044, in __call__\n",
      "    while self.dispatch_one_batch(iterator):\n",
      "  File \"C:\\Users\\gjete\\Anaconda3\\envs\\PythonAdv\\lib\\site-packages\\joblib\\parallel.py\", line 859, in dispatch_one_batch\n",
      "    self._dispatch(tasks)\n",
      "  File \"C:\\Users\\gjete\\Anaconda3\\envs\\PythonAdv\\lib\\site-packages\\joblib\\parallel.py\", line 777, in _dispatch\n",
      "    job = self._backend.apply_async(batch, callback=cb)\n",
      "  File \"C:\\Users\\gjete\\Anaconda3\\envs\\PythonAdv\\lib\\site-packages\\joblib\\_parallel_backends.py\", line 208, in apply_async\n",
      "    result = ImmediateResult(func)\n",
      "  File \"C:\\Users\\gjete\\Anaconda3\\envs\\PythonAdv\\lib\\site-packages\\joblib\\_parallel_backends.py\", line 572, in __init__\n",
      "    self.results = batch()\n",
      "  File \"C:\\Users\\gjete\\Anaconda3\\envs\\PythonAdv\\lib\\site-packages\\joblib\\parallel.py\", line 263, in __call__\n",
      "    for func, args, kwargs in self.items]\n",
      "  File \"C:\\Users\\gjete\\Anaconda3\\envs\\PythonAdv\\lib\\site-packages\\joblib\\parallel.py\", line 263, in <listcomp>\n",
      "    for func, args, kwargs in self.items]\n",
      "  File \"C:\\Users\\gjete\\Anaconda3\\envs\\PythonAdv\\lib\\site-packages\\sklearn\\utils\\fixes.py\", line 222, in __call__\n",
      "    return self.function(*args, **kwargs)\n",
      "  File \"C:\\Users\\gjete\\Anaconda3\\envs\\PythonAdv\\lib\\site-packages\\sklearn\\ensemble\\_forest.py\", line 169, in _parallel_build_trees\n",
      "    tree.fit(X, y, sample_weight=curr_sample_weight, check_input=False)\n",
      "  File \"C:\\Users\\gjete\\Anaconda3\\envs\\PythonAdv\\lib\\site-packages\\sklearn\\tree\\_classes.py\", line 902, in fit\n",
      "    X_idx_sorted=X_idx_sorted)\n",
      "  File \"C:\\Users\\gjete\\Anaconda3\\envs\\PythonAdv\\lib\\site-packages\\sklearn\\tree\\_classes.py\", line 389, in fit\n",
      "    builder.build(self.tree_, X, y, sample_weight)\n",
      "  File \"sklearn\\tree\\_tree.pyx\", line 136, in sklearn.tree._tree.DepthFirstTreeBuilder.build\n",
      "  File \"sklearn\\tree\\_tree.pyx\", line 233, in sklearn.tree._tree.DepthFirstTreeBuilder.build\n",
      "  File \"sklearn\\tree\\_tree.pyx\", line 734, in sklearn.tree._tree.Tree._add_node\n",
      "  File \"sklearn\\tree\\_tree.pyx\", line 706, in sklearn.tree._tree.Tree._resize_c\n",
      "  File \"sklearn\\tree\\_utils.pyx\", line 41, in sklearn.tree._utils.safe_realloc\n",
      "MemoryError: could not allocate 46137344 bytes\n",
      "\n",
      "  FitFailedWarning)\n"
     ]
    },
    {
     "name": "stdout",
     "output_type": "stream",
     "text": [
      "[CV 1/5] END criterion=gini, max_depth=50, n_estimators=1250; total time= 6.0min\n"
     ]
    },
    {
     "name": "stderr",
     "output_type": "stream",
     "text": [
      "C:\\Users\\gjete\\Anaconda3\\envs\\PythonAdv\\lib\\site-packages\\sklearn\\model_selection\\_validation.py:614: FitFailedWarning: Estimator fit failed. The score on this train-test partition for these parameters will be set to nan. Details: \n",
      "Traceback (most recent call last):\n",
      "  File \"C:\\Users\\gjete\\Anaconda3\\envs\\PythonAdv\\lib\\site-packages\\sklearn\\model_selection\\_validation.py\", line 593, in _fit_and_score\n",
      "    estimator.fit(X_train, y_train, **fit_params)\n",
      "  File \"C:\\Users\\gjete\\Anaconda3\\envs\\PythonAdv\\lib\\site-packages\\sklearn\\ensemble\\_forest.py\", line 393, in fit\n",
      "    for i, t in enumerate(trees))\n",
      "  File \"C:\\Users\\gjete\\Anaconda3\\envs\\PythonAdv\\lib\\site-packages\\joblib\\parallel.py\", line 1044, in __call__\n",
      "    while self.dispatch_one_batch(iterator):\n",
      "  File \"C:\\Users\\gjete\\Anaconda3\\envs\\PythonAdv\\lib\\site-packages\\joblib\\parallel.py\", line 859, in dispatch_one_batch\n",
      "    self._dispatch(tasks)\n",
      "  File \"C:\\Users\\gjete\\Anaconda3\\envs\\PythonAdv\\lib\\site-packages\\joblib\\parallel.py\", line 777, in _dispatch\n",
      "    job = self._backend.apply_async(batch, callback=cb)\n",
      "  File \"C:\\Users\\gjete\\Anaconda3\\envs\\PythonAdv\\lib\\site-packages\\joblib\\_parallel_backends.py\", line 208, in apply_async\n",
      "    result = ImmediateResult(func)\n",
      "  File \"C:\\Users\\gjete\\Anaconda3\\envs\\PythonAdv\\lib\\site-packages\\joblib\\_parallel_backends.py\", line 572, in __init__\n",
      "    self.results = batch()\n",
      "  File \"C:\\Users\\gjete\\Anaconda3\\envs\\PythonAdv\\lib\\site-packages\\joblib\\parallel.py\", line 263, in __call__\n",
      "    for func, args, kwargs in self.items]\n",
      "  File \"C:\\Users\\gjete\\Anaconda3\\envs\\PythonAdv\\lib\\site-packages\\joblib\\parallel.py\", line 263, in <listcomp>\n",
      "    for func, args, kwargs in self.items]\n",
      "  File \"C:\\Users\\gjete\\Anaconda3\\envs\\PythonAdv\\lib\\site-packages\\sklearn\\utils\\fixes.py\", line 222, in __call__\n",
      "    return self.function(*args, **kwargs)\n",
      "  File \"C:\\Users\\gjete\\Anaconda3\\envs\\PythonAdv\\lib\\site-packages\\sklearn\\ensemble\\_forest.py\", line 169, in _parallel_build_trees\n",
      "    tree.fit(X, y, sample_weight=curr_sample_weight, check_input=False)\n",
      "  File \"C:\\Users\\gjete\\Anaconda3\\envs\\PythonAdv\\lib\\site-packages\\sklearn\\tree\\_classes.py\", line 902, in fit\n",
      "    X_idx_sorted=X_idx_sorted)\n",
      "  File \"C:\\Users\\gjete\\Anaconda3\\envs\\PythonAdv\\lib\\site-packages\\sklearn\\tree\\_classes.py\", line 389, in fit\n",
      "    builder.build(self.tree_, X, y, sample_weight)\n",
      "  File \"sklearn\\tree\\_tree.pyx\", line 136, in sklearn.tree._tree.DepthFirstTreeBuilder.build\n",
      "  File \"sklearn\\tree\\_tree.pyx\", line 233, in sklearn.tree._tree.DepthFirstTreeBuilder.build\n",
      "  File \"sklearn\\tree\\_tree.pyx\", line 734, in sklearn.tree._tree.Tree._add_node\n",
      "  File \"sklearn\\tree\\_tree.pyx\", line 706, in sklearn.tree._tree.Tree._resize_c\n",
      "  File \"sklearn\\tree\\_utils.pyx\", line 41, in sklearn.tree._utils.safe_realloc\n",
      "MemoryError: could not allocate 46137344 bytes\n",
      "\n",
      "  FitFailedWarning)\n"
     ]
    },
    {
     "name": "stdout",
     "output_type": "stream",
     "text": [
      "[CV 2/5] END criterion=gini, max_depth=50, n_estimators=1250; total time= 6.1min\n"
     ]
    },
    {
     "name": "stderr",
     "output_type": "stream",
     "text": [
      "C:\\Users\\gjete\\Anaconda3\\envs\\PythonAdv\\lib\\site-packages\\sklearn\\model_selection\\_validation.py:614: FitFailedWarning: Estimator fit failed. The score on this train-test partition for these parameters will be set to nan. Details: \n",
      "Traceback (most recent call last):\n",
      "  File \"C:\\Users\\gjete\\Anaconda3\\envs\\PythonAdv\\lib\\site-packages\\sklearn\\model_selection\\_validation.py\", line 593, in _fit_and_score\n",
      "    estimator.fit(X_train, y_train, **fit_params)\n",
      "  File \"C:\\Users\\gjete\\Anaconda3\\envs\\PythonAdv\\lib\\site-packages\\sklearn\\ensemble\\_forest.py\", line 393, in fit\n",
      "    for i, t in enumerate(trees))\n",
      "  File \"C:\\Users\\gjete\\Anaconda3\\envs\\PythonAdv\\lib\\site-packages\\joblib\\parallel.py\", line 1044, in __call__\n",
      "    while self.dispatch_one_batch(iterator):\n",
      "  File \"C:\\Users\\gjete\\Anaconda3\\envs\\PythonAdv\\lib\\site-packages\\joblib\\parallel.py\", line 859, in dispatch_one_batch\n",
      "    self._dispatch(tasks)\n",
      "  File \"C:\\Users\\gjete\\Anaconda3\\envs\\PythonAdv\\lib\\site-packages\\joblib\\parallel.py\", line 777, in _dispatch\n",
      "    job = self._backend.apply_async(batch, callback=cb)\n",
      "  File \"C:\\Users\\gjete\\Anaconda3\\envs\\PythonAdv\\lib\\site-packages\\joblib\\_parallel_backends.py\", line 208, in apply_async\n",
      "    result = ImmediateResult(func)\n",
      "  File \"C:\\Users\\gjete\\Anaconda3\\envs\\PythonAdv\\lib\\site-packages\\joblib\\_parallel_backends.py\", line 572, in __init__\n",
      "    self.results = batch()\n",
      "  File \"C:\\Users\\gjete\\Anaconda3\\envs\\PythonAdv\\lib\\site-packages\\joblib\\parallel.py\", line 263, in __call__\n",
      "    for func, args, kwargs in self.items]\n",
      "  File \"C:\\Users\\gjete\\Anaconda3\\envs\\PythonAdv\\lib\\site-packages\\joblib\\parallel.py\", line 263, in <listcomp>\n",
      "    for func, args, kwargs in self.items]\n",
      "  File \"C:\\Users\\gjete\\Anaconda3\\envs\\PythonAdv\\lib\\site-packages\\sklearn\\utils\\fixes.py\", line 222, in __call__\n",
      "    return self.function(*args, **kwargs)\n",
      "  File \"C:\\Users\\gjete\\Anaconda3\\envs\\PythonAdv\\lib\\site-packages\\sklearn\\ensemble\\_forest.py\", line 169, in _parallel_build_trees\n",
      "    tree.fit(X, y, sample_weight=curr_sample_weight, check_input=False)\n",
      "  File \"C:\\Users\\gjete\\Anaconda3\\envs\\PythonAdv\\lib\\site-packages\\sklearn\\tree\\_classes.py\", line 902, in fit\n",
      "    X_idx_sorted=X_idx_sorted)\n",
      "  File \"C:\\Users\\gjete\\Anaconda3\\envs\\PythonAdv\\lib\\site-packages\\sklearn\\tree\\_classes.py\", line 389, in fit\n",
      "    builder.build(self.tree_, X, y, sample_weight)\n",
      "  File \"sklearn\\tree\\_tree.pyx\", line 136, in sklearn.tree._tree.DepthFirstTreeBuilder.build\n",
      "  File \"sklearn\\tree\\_tree.pyx\", line 233, in sklearn.tree._tree.DepthFirstTreeBuilder.build\n",
      "  File \"sklearn\\tree\\_tree.pyx\", line 734, in sklearn.tree._tree.Tree._add_node\n",
      "  File \"sklearn\\tree\\_tree.pyx\", line 706, in sklearn.tree._tree.Tree._resize_c\n",
      "  File \"sklearn\\tree\\_utils.pyx\", line 41, in sklearn.tree._utils.safe_realloc\n",
      "MemoryError: could not allocate 46137344 bytes\n",
      "\n",
      "  FitFailedWarning)\n"
     ]
    },
    {
     "name": "stdout",
     "output_type": "stream",
     "text": [
      "[CV 3/5] END criterion=gini, max_depth=50, n_estimators=1250; total time= 6.0min\n"
     ]
    },
    {
     "name": "stderr",
     "output_type": "stream",
     "text": [
      "C:\\Users\\gjete\\Anaconda3\\envs\\PythonAdv\\lib\\site-packages\\sklearn\\model_selection\\_validation.py:614: FitFailedWarning: Estimator fit failed. The score on this train-test partition for these parameters will be set to nan. Details: \n",
      "Traceback (most recent call last):\n",
      "  File \"C:\\Users\\gjete\\Anaconda3\\envs\\PythonAdv\\lib\\site-packages\\sklearn\\model_selection\\_validation.py\", line 593, in _fit_and_score\n",
      "    estimator.fit(X_train, y_train, **fit_params)\n",
      "  File \"C:\\Users\\gjete\\Anaconda3\\envs\\PythonAdv\\lib\\site-packages\\sklearn\\ensemble\\_forest.py\", line 393, in fit\n",
      "    for i, t in enumerate(trees))\n",
      "  File \"C:\\Users\\gjete\\Anaconda3\\envs\\PythonAdv\\lib\\site-packages\\joblib\\parallel.py\", line 1044, in __call__\n",
      "    while self.dispatch_one_batch(iterator):\n",
      "  File \"C:\\Users\\gjete\\Anaconda3\\envs\\PythonAdv\\lib\\site-packages\\joblib\\parallel.py\", line 859, in dispatch_one_batch\n",
      "    self._dispatch(tasks)\n",
      "  File \"C:\\Users\\gjete\\Anaconda3\\envs\\PythonAdv\\lib\\site-packages\\joblib\\parallel.py\", line 777, in _dispatch\n",
      "    job = self._backend.apply_async(batch, callback=cb)\n",
      "  File \"C:\\Users\\gjete\\Anaconda3\\envs\\PythonAdv\\lib\\site-packages\\joblib\\_parallel_backends.py\", line 208, in apply_async\n",
      "    result = ImmediateResult(func)\n",
      "  File \"C:\\Users\\gjete\\Anaconda3\\envs\\PythonAdv\\lib\\site-packages\\joblib\\_parallel_backends.py\", line 572, in __init__\n",
      "    self.results = batch()\n",
      "  File \"C:\\Users\\gjete\\Anaconda3\\envs\\PythonAdv\\lib\\site-packages\\joblib\\parallel.py\", line 263, in __call__\n",
      "    for func, args, kwargs in self.items]\n",
      "  File \"C:\\Users\\gjete\\Anaconda3\\envs\\PythonAdv\\lib\\site-packages\\joblib\\parallel.py\", line 263, in <listcomp>\n",
      "    for func, args, kwargs in self.items]\n",
      "  File \"C:\\Users\\gjete\\Anaconda3\\envs\\PythonAdv\\lib\\site-packages\\sklearn\\utils\\fixes.py\", line 222, in __call__\n",
      "    return self.function(*args, **kwargs)\n",
      "  File \"C:\\Users\\gjete\\Anaconda3\\envs\\PythonAdv\\lib\\site-packages\\sklearn\\ensemble\\_forest.py\", line 169, in _parallel_build_trees\n",
      "    tree.fit(X, y, sample_weight=curr_sample_weight, check_input=False)\n",
      "  File \"C:\\Users\\gjete\\Anaconda3\\envs\\PythonAdv\\lib\\site-packages\\sklearn\\tree\\_classes.py\", line 902, in fit\n",
      "    X_idx_sorted=X_idx_sorted)\n",
      "  File \"C:\\Users\\gjete\\Anaconda3\\envs\\PythonAdv\\lib\\site-packages\\sklearn\\tree\\_classes.py\", line 389, in fit\n",
      "    builder.build(self.tree_, X, y, sample_weight)\n",
      "  File \"sklearn\\tree\\_tree.pyx\", line 136, in sklearn.tree._tree.DepthFirstTreeBuilder.build\n",
      "  File \"sklearn\\tree\\_tree.pyx\", line 233, in sklearn.tree._tree.DepthFirstTreeBuilder.build\n",
      "  File \"sklearn\\tree\\_tree.pyx\", line 734, in sklearn.tree._tree.Tree._add_node\n",
      "  File \"sklearn\\tree\\_tree.pyx\", line 706, in sklearn.tree._tree.Tree._resize_c\n",
      "  File \"sklearn\\tree\\_utils.pyx\", line 41, in sklearn.tree._utils.safe_realloc\n",
      "MemoryError: could not allocate 46137344 bytes\n",
      "\n",
      "  FitFailedWarning)\n"
     ]
    },
    {
     "name": "stdout",
     "output_type": "stream",
     "text": [
      "[CV 4/5] END criterion=gini, max_depth=50, n_estimators=1250; total time= 5.9min\n"
     ]
    },
    {
     "name": "stderr",
     "output_type": "stream",
     "text": [
      "C:\\Users\\gjete\\Anaconda3\\envs\\PythonAdv\\lib\\site-packages\\sklearn\\model_selection\\_validation.py:614: FitFailedWarning: Estimator fit failed. The score on this train-test partition for these parameters will be set to nan. Details: \n",
      "Traceback (most recent call last):\n",
      "  File \"C:\\Users\\gjete\\Anaconda3\\envs\\PythonAdv\\lib\\site-packages\\sklearn\\model_selection\\_validation.py\", line 593, in _fit_and_score\n",
      "    estimator.fit(X_train, y_train, **fit_params)\n",
      "  File \"C:\\Users\\gjete\\Anaconda3\\envs\\PythonAdv\\lib\\site-packages\\sklearn\\ensemble\\_forest.py\", line 393, in fit\n",
      "    for i, t in enumerate(trees))\n",
      "  File \"C:\\Users\\gjete\\Anaconda3\\envs\\PythonAdv\\lib\\site-packages\\joblib\\parallel.py\", line 1044, in __call__\n",
      "    while self.dispatch_one_batch(iterator):\n",
      "  File \"C:\\Users\\gjete\\Anaconda3\\envs\\PythonAdv\\lib\\site-packages\\joblib\\parallel.py\", line 859, in dispatch_one_batch\n",
      "    self._dispatch(tasks)\n",
      "  File \"C:\\Users\\gjete\\Anaconda3\\envs\\PythonAdv\\lib\\site-packages\\joblib\\parallel.py\", line 777, in _dispatch\n",
      "    job = self._backend.apply_async(batch, callback=cb)\n",
      "  File \"C:\\Users\\gjete\\Anaconda3\\envs\\PythonAdv\\lib\\site-packages\\joblib\\_parallel_backends.py\", line 208, in apply_async\n",
      "    result = ImmediateResult(func)\n",
      "  File \"C:\\Users\\gjete\\Anaconda3\\envs\\PythonAdv\\lib\\site-packages\\joblib\\_parallel_backends.py\", line 572, in __init__\n",
      "    self.results = batch()\n",
      "  File \"C:\\Users\\gjete\\Anaconda3\\envs\\PythonAdv\\lib\\site-packages\\joblib\\parallel.py\", line 263, in __call__\n",
      "    for func, args, kwargs in self.items]\n",
      "  File \"C:\\Users\\gjete\\Anaconda3\\envs\\PythonAdv\\lib\\site-packages\\joblib\\parallel.py\", line 263, in <listcomp>\n",
      "    for func, args, kwargs in self.items]\n",
      "  File \"C:\\Users\\gjete\\Anaconda3\\envs\\PythonAdv\\lib\\site-packages\\sklearn\\utils\\fixes.py\", line 222, in __call__\n",
      "    return self.function(*args, **kwargs)\n",
      "  File \"C:\\Users\\gjete\\Anaconda3\\envs\\PythonAdv\\lib\\site-packages\\sklearn\\ensemble\\_forest.py\", line 169, in _parallel_build_trees\n",
      "    tree.fit(X, y, sample_weight=curr_sample_weight, check_input=False)\n",
      "  File \"C:\\Users\\gjete\\Anaconda3\\envs\\PythonAdv\\lib\\site-packages\\sklearn\\tree\\_classes.py\", line 902, in fit\n",
      "    X_idx_sorted=X_idx_sorted)\n",
      "  File \"C:\\Users\\gjete\\Anaconda3\\envs\\PythonAdv\\lib\\site-packages\\sklearn\\tree\\_classes.py\", line 389, in fit\n",
      "    builder.build(self.tree_, X, y, sample_weight)\n",
      "  File \"sklearn\\tree\\_tree.pyx\", line 136, in sklearn.tree._tree.DepthFirstTreeBuilder.build\n",
      "  File \"sklearn\\tree\\_tree.pyx\", line 233, in sklearn.tree._tree.DepthFirstTreeBuilder.build\n",
      "  File \"sklearn\\tree\\_tree.pyx\", line 734, in sklearn.tree._tree.Tree._add_node\n",
      "  File \"sklearn\\tree\\_tree.pyx\", line 706, in sklearn.tree._tree.Tree._resize_c\n",
      "  File \"sklearn\\tree\\_utils.pyx\", line 41, in sklearn.tree._utils.safe_realloc\n",
      "MemoryError: could not allocate 46137344 bytes\n",
      "\n",
      "  FitFailedWarning)\n"
     ]
    },
    {
     "name": "stdout",
     "output_type": "stream",
     "text": [
      "[CV 5/5] END criterion=gini, max_depth=50, n_estimators=1250; total time= 5.9min\n",
      "[CV 1/5] END criterion=entropy, max_depth=1, n_estimators=750; total time= 1.7min\n",
      "[CV 2/5] END criterion=entropy, max_depth=1, n_estimators=750; total time= 1.6min\n",
      "[CV 3/5] END criterion=entropy, max_depth=1, n_estimators=750; total time= 1.6min\n",
      "[CV 4/5] END criterion=entropy, max_depth=1, n_estimators=750; total time= 1.6min\n",
      "[CV 5/5] END criterion=entropy, max_depth=1, n_estimators=750; total time= 1.6min\n",
      "[CV 1/5] END criterion=entropy, max_depth=1, n_estimators=1000; total time= 2.2min\n",
      "[CV 2/5] END criterion=entropy, max_depth=1, n_estimators=1000; total time= 2.2min\n",
      "[CV 3/5] END criterion=entropy, max_depth=1, n_estimators=1000; total time= 2.2min\n",
      "[CV 4/5] END criterion=entropy, max_depth=1, n_estimators=1000; total time= 2.2min\n",
      "[CV 5/5] END criterion=entropy, max_depth=1, n_estimators=1000; total time= 2.2min\n",
      "[CV 1/5] END criterion=entropy, max_depth=1, n_estimators=1250; total time= 2.7min\n",
      "[CV 2/5] END criterion=entropy, max_depth=1, n_estimators=1250; total time= 2.7min\n",
      "[CV 3/5] END criterion=entropy, max_depth=1, n_estimators=1250; total time= 2.7min\n",
      "[CV 4/5] END criterion=entropy, max_depth=1, n_estimators=1250; total time= 2.7min\n",
      "[CV 5/5] END criterion=entropy, max_depth=1, n_estimators=1250; total time= 2.7min\n",
      "[CV 1/5] END criterion=entropy, max_depth=10, n_estimators=750; total time= 2.4min\n",
      "[CV 2/5] END criterion=entropy, max_depth=10, n_estimators=750; total time= 2.4min\n",
      "[CV 3/5] END criterion=entropy, max_depth=10, n_estimators=750; total time= 2.4min\n",
      "[CV 4/5] END criterion=entropy, max_depth=10, n_estimators=750; total time= 2.4min\n",
      "[CV 5/5] END criterion=entropy, max_depth=10, n_estimators=750; total time= 2.4min\n",
      "[CV 1/5] END criterion=entropy, max_depth=10, n_estimators=1000; total time= 3.2min\n",
      "[CV 2/5] END criterion=entropy, max_depth=10, n_estimators=1000; total time= 3.2min\n",
      "[CV 3/5] END criterion=entropy, max_depth=10, n_estimators=1000; total time= 3.2min\n",
      "[CV 4/5] END criterion=entropy, max_depth=10, n_estimators=1000; total time= 3.2min\n",
      "[CV 5/5] END criterion=entropy, max_depth=10, n_estimators=1000; total time= 3.2min\n",
      "[CV 1/5] END criterion=entropy, max_depth=10, n_estimators=1250; total time= 4.0min\n",
      "[CV 2/5] END criterion=entropy, max_depth=10, n_estimators=1250; total time= 4.0min\n",
      "[CV 3/5] END criterion=entropy, max_depth=10, n_estimators=1250; total time= 4.0min\n",
      "[CV 4/5] END criterion=entropy, max_depth=10, n_estimators=1250; total time= 4.0min\n",
      "[CV 5/5] END criterion=entropy, max_depth=10, n_estimators=1250; total time= 4.0min\n",
      "[CV 1/5] END criterion=entropy, max_depth=50, n_estimators=750; total time= 6.1min\n",
      "[CV 2/5] END criterion=entropy, max_depth=50, n_estimators=750; total time= 5.7min\n",
      "[CV 3/5] END criterion=entropy, max_depth=50, n_estimators=750; total time= 5.6min\n",
      "[CV 4/5] END criterion=entropy, max_depth=50, n_estimators=750; total time= 5.9min\n",
      "[CV 5/5] END criterion=entropy, max_depth=50, n_estimators=750; total time= 5.6min\n",
      "[CV 1/5] END criterion=entropy, max_depth=50, n_estimators=1000; total time= 8.0min\n",
      "[CV 2/5] END criterion=entropy, max_depth=50, n_estimators=1000; total time= 7.7min\n",
      "[CV 3/5] END criterion=entropy, max_depth=50, n_estimators=1000; total time= 8.3min\n",
      "[CV 4/5] END criterion=entropy, max_depth=50, n_estimators=1000; total time= 7.7min\n",
      "[CV 5/5] END criterion=entropy, max_depth=50, n_estimators=1000; total time= 8.4min\n"
     ]
    },
    {
     "name": "stderr",
     "output_type": "stream",
     "text": [
      "C:\\Users\\gjete\\Anaconda3\\envs\\PythonAdv\\lib\\site-packages\\sklearn\\model_selection\\_validation.py:614: FitFailedWarning: Estimator fit failed. The score on this train-test partition for these parameters will be set to nan. Details: \n",
      "Traceback (most recent call last):\n",
      "  File \"C:\\Users\\gjete\\Anaconda3\\envs\\PythonAdv\\lib\\site-packages\\sklearn\\model_selection\\_validation.py\", line 593, in _fit_and_score\n",
      "    estimator.fit(X_train, y_train, **fit_params)\n",
      "  File \"C:\\Users\\gjete\\Anaconda3\\envs\\PythonAdv\\lib\\site-packages\\sklearn\\ensemble\\_forest.py\", line 393, in fit\n",
      "    for i, t in enumerate(trees))\n",
      "  File \"C:\\Users\\gjete\\Anaconda3\\envs\\PythonAdv\\lib\\site-packages\\joblib\\parallel.py\", line 1044, in __call__\n",
      "    while self.dispatch_one_batch(iterator):\n",
      "  File \"C:\\Users\\gjete\\Anaconda3\\envs\\PythonAdv\\lib\\site-packages\\joblib\\parallel.py\", line 859, in dispatch_one_batch\n",
      "    self._dispatch(tasks)\n",
      "  File \"C:\\Users\\gjete\\Anaconda3\\envs\\PythonAdv\\lib\\site-packages\\joblib\\parallel.py\", line 777, in _dispatch\n",
      "    job = self._backend.apply_async(batch, callback=cb)\n",
      "  File \"C:\\Users\\gjete\\Anaconda3\\envs\\PythonAdv\\lib\\site-packages\\joblib\\_parallel_backends.py\", line 208, in apply_async\n",
      "    result = ImmediateResult(func)\n",
      "  File \"C:\\Users\\gjete\\Anaconda3\\envs\\PythonAdv\\lib\\site-packages\\joblib\\_parallel_backends.py\", line 572, in __init__\n",
      "    self.results = batch()\n",
      "  File \"C:\\Users\\gjete\\Anaconda3\\envs\\PythonAdv\\lib\\site-packages\\joblib\\parallel.py\", line 263, in __call__\n",
      "    for func, args, kwargs in self.items]\n",
      "  File \"C:\\Users\\gjete\\Anaconda3\\envs\\PythonAdv\\lib\\site-packages\\joblib\\parallel.py\", line 263, in <listcomp>\n",
      "    for func, args, kwargs in self.items]\n",
      "  File \"C:\\Users\\gjete\\Anaconda3\\envs\\PythonAdv\\lib\\site-packages\\sklearn\\utils\\fixes.py\", line 222, in __call__\n",
      "    return self.function(*args, **kwargs)\n",
      "  File \"C:\\Users\\gjete\\Anaconda3\\envs\\PythonAdv\\lib\\site-packages\\sklearn\\ensemble\\_forest.py\", line 169, in _parallel_build_trees\n",
      "    tree.fit(X, y, sample_weight=curr_sample_weight, check_input=False)\n",
      "  File \"C:\\Users\\gjete\\Anaconda3\\envs\\PythonAdv\\lib\\site-packages\\sklearn\\tree\\_classes.py\", line 902, in fit\n",
      "    X_idx_sorted=X_idx_sorted)\n",
      "  File \"C:\\Users\\gjete\\Anaconda3\\envs\\PythonAdv\\lib\\site-packages\\sklearn\\tree\\_classes.py\", line 389, in fit\n",
      "    builder.build(self.tree_, X, y, sample_weight)\n",
      "  File \"sklearn\\tree\\_tree.pyx\", line 136, in sklearn.tree._tree.DepthFirstTreeBuilder.build\n",
      "  File \"sklearn\\tree\\_tree.pyx\", line 233, in sklearn.tree._tree.DepthFirstTreeBuilder.build\n",
      "  File \"sklearn\\tree\\_tree.pyx\", line 734, in sklearn.tree._tree.Tree._add_node\n",
      "  File \"sklearn\\tree\\_tree.pyx\", line 706, in sklearn.tree._tree.Tree._resize_c\n",
      "  File \"sklearn\\tree\\_utils.pyx\", line 41, in sklearn.tree._utils.safe_realloc\n",
      "MemoryError: could not allocate 46137344 bytes\n",
      "\n",
      "  FitFailedWarning)\n"
     ]
    },
    {
     "name": "stdout",
     "output_type": "stream",
     "text": [
      "[CV 1/5] END criterion=entropy, max_depth=50, n_estimators=1250; total time=10.8min\n"
     ]
    },
    {
     "name": "stderr",
     "output_type": "stream",
     "text": [
      "C:\\Users\\gjete\\Anaconda3\\envs\\PythonAdv\\lib\\site-packages\\sklearn\\model_selection\\_validation.py:614: FitFailedWarning: Estimator fit failed. The score on this train-test partition for these parameters will be set to nan. Details: \n",
      "Traceback (most recent call last):\n",
      "  File \"C:\\Users\\gjete\\Anaconda3\\envs\\PythonAdv\\lib\\site-packages\\sklearn\\model_selection\\_validation.py\", line 593, in _fit_and_score\n",
      "    estimator.fit(X_train, y_train, **fit_params)\n",
      "  File \"C:\\Users\\gjete\\Anaconda3\\envs\\PythonAdv\\lib\\site-packages\\sklearn\\ensemble\\_forest.py\", line 393, in fit\n",
      "    for i, t in enumerate(trees))\n",
      "  File \"C:\\Users\\gjete\\Anaconda3\\envs\\PythonAdv\\lib\\site-packages\\joblib\\parallel.py\", line 1044, in __call__\n",
      "    while self.dispatch_one_batch(iterator):\n",
      "  File \"C:\\Users\\gjete\\Anaconda3\\envs\\PythonAdv\\lib\\site-packages\\joblib\\parallel.py\", line 859, in dispatch_one_batch\n",
      "    self._dispatch(tasks)\n",
      "  File \"C:\\Users\\gjete\\Anaconda3\\envs\\PythonAdv\\lib\\site-packages\\joblib\\parallel.py\", line 777, in _dispatch\n",
      "    job = self._backend.apply_async(batch, callback=cb)\n",
      "  File \"C:\\Users\\gjete\\Anaconda3\\envs\\PythonAdv\\lib\\site-packages\\joblib\\_parallel_backends.py\", line 208, in apply_async\n",
      "    result = ImmediateResult(func)\n",
      "  File \"C:\\Users\\gjete\\Anaconda3\\envs\\PythonAdv\\lib\\site-packages\\joblib\\_parallel_backends.py\", line 572, in __init__\n",
      "    self.results = batch()\n",
      "  File \"C:\\Users\\gjete\\Anaconda3\\envs\\PythonAdv\\lib\\site-packages\\joblib\\parallel.py\", line 263, in __call__\n",
      "    for func, args, kwargs in self.items]\n",
      "  File \"C:\\Users\\gjete\\Anaconda3\\envs\\PythonAdv\\lib\\site-packages\\joblib\\parallel.py\", line 263, in <listcomp>\n",
      "    for func, args, kwargs in self.items]\n",
      "  File \"C:\\Users\\gjete\\Anaconda3\\envs\\PythonAdv\\lib\\site-packages\\sklearn\\utils\\fixes.py\", line 222, in __call__\n",
      "    return self.function(*args, **kwargs)\n",
      "  File \"C:\\Users\\gjete\\Anaconda3\\envs\\PythonAdv\\lib\\site-packages\\sklearn\\ensemble\\_forest.py\", line 169, in _parallel_build_trees\n",
      "    tree.fit(X, y, sample_weight=curr_sample_weight, check_input=False)\n",
      "  File \"C:\\Users\\gjete\\Anaconda3\\envs\\PythonAdv\\lib\\site-packages\\sklearn\\tree\\_classes.py\", line 902, in fit\n",
      "    X_idx_sorted=X_idx_sorted)\n",
      "  File \"C:\\Users\\gjete\\Anaconda3\\envs\\PythonAdv\\lib\\site-packages\\sklearn\\tree\\_classes.py\", line 389, in fit\n",
      "    builder.build(self.tree_, X, y, sample_weight)\n",
      "  File \"sklearn\\tree\\_tree.pyx\", line 136, in sklearn.tree._tree.DepthFirstTreeBuilder.build\n",
      "  File \"sklearn\\tree\\_tree.pyx\", line 233, in sklearn.tree._tree.DepthFirstTreeBuilder.build\n",
      "  File \"sklearn\\tree\\_tree.pyx\", line 734, in sklearn.tree._tree.Tree._add_node\n",
      "  File \"sklearn\\tree\\_tree.pyx\", line 706, in sklearn.tree._tree.Tree._resize_c\n",
      "  File \"sklearn\\tree\\_utils.pyx\", line 41, in sklearn.tree._utils.safe_realloc\n",
      "MemoryError: could not allocate 46137344 bytes\n",
      "\n",
      "  FitFailedWarning)\n"
     ]
    },
    {
     "name": "stdout",
     "output_type": "stream",
     "text": [
      "[CV 2/5] END criterion=entropy, max_depth=50, n_estimators=1250; total time=11.1min\n"
     ]
    },
    {
     "name": "stderr",
     "output_type": "stream",
     "text": [
      "C:\\Users\\gjete\\Anaconda3\\envs\\PythonAdv\\lib\\site-packages\\sklearn\\model_selection\\_validation.py:614: FitFailedWarning: Estimator fit failed. The score on this train-test partition for these parameters will be set to nan. Details: \n",
      "Traceback (most recent call last):\n",
      "  File \"C:\\Users\\gjete\\Anaconda3\\envs\\PythonAdv\\lib\\site-packages\\sklearn\\model_selection\\_validation.py\", line 593, in _fit_and_score\n",
      "    estimator.fit(X_train, y_train, **fit_params)\n",
      "  File \"C:\\Users\\gjete\\Anaconda3\\envs\\PythonAdv\\lib\\site-packages\\sklearn\\ensemble\\_forest.py\", line 393, in fit\n",
      "    for i, t in enumerate(trees))\n",
      "  File \"C:\\Users\\gjete\\Anaconda3\\envs\\PythonAdv\\lib\\site-packages\\joblib\\parallel.py\", line 1044, in __call__\n",
      "    while self.dispatch_one_batch(iterator):\n",
      "  File \"C:\\Users\\gjete\\Anaconda3\\envs\\PythonAdv\\lib\\site-packages\\joblib\\parallel.py\", line 859, in dispatch_one_batch\n",
      "    self._dispatch(tasks)\n",
      "  File \"C:\\Users\\gjete\\Anaconda3\\envs\\PythonAdv\\lib\\site-packages\\joblib\\parallel.py\", line 777, in _dispatch\n",
      "    job = self._backend.apply_async(batch, callback=cb)\n",
      "  File \"C:\\Users\\gjete\\Anaconda3\\envs\\PythonAdv\\lib\\site-packages\\joblib\\_parallel_backends.py\", line 208, in apply_async\n",
      "    result = ImmediateResult(func)\n",
      "  File \"C:\\Users\\gjete\\Anaconda3\\envs\\PythonAdv\\lib\\site-packages\\joblib\\_parallel_backends.py\", line 572, in __init__\n",
      "    self.results = batch()\n",
      "  File \"C:\\Users\\gjete\\Anaconda3\\envs\\PythonAdv\\lib\\site-packages\\joblib\\parallel.py\", line 263, in __call__\n",
      "    for func, args, kwargs in self.items]\n",
      "  File \"C:\\Users\\gjete\\Anaconda3\\envs\\PythonAdv\\lib\\site-packages\\joblib\\parallel.py\", line 263, in <listcomp>\n",
      "    for func, args, kwargs in self.items]\n",
      "  File \"C:\\Users\\gjete\\Anaconda3\\envs\\PythonAdv\\lib\\site-packages\\sklearn\\utils\\fixes.py\", line 222, in __call__\n",
      "    return self.function(*args, **kwargs)\n",
      "  File \"C:\\Users\\gjete\\Anaconda3\\envs\\PythonAdv\\lib\\site-packages\\sklearn\\ensemble\\_forest.py\", line 169, in _parallel_build_trees\n",
      "    tree.fit(X, y, sample_weight=curr_sample_weight, check_input=False)\n",
      "  File \"C:\\Users\\gjete\\Anaconda3\\envs\\PythonAdv\\lib\\site-packages\\sklearn\\tree\\_classes.py\", line 902, in fit\n",
      "    X_idx_sorted=X_idx_sorted)\n",
      "  File \"C:\\Users\\gjete\\Anaconda3\\envs\\PythonAdv\\lib\\site-packages\\sklearn\\tree\\_classes.py\", line 389, in fit\n",
      "    builder.build(self.tree_, X, y, sample_weight)\n",
      "  File \"sklearn\\tree\\_tree.pyx\", line 136, in sklearn.tree._tree.DepthFirstTreeBuilder.build\n",
      "  File \"sklearn\\tree\\_tree.pyx\", line 233, in sklearn.tree._tree.DepthFirstTreeBuilder.build\n",
      "  File \"sklearn\\tree\\_tree.pyx\", line 734, in sklearn.tree._tree.Tree._add_node\n",
      "  File \"sklearn\\tree\\_tree.pyx\", line 706, in sklearn.tree._tree.Tree._resize_c\n",
      "  File \"sklearn\\tree\\_utils.pyx\", line 41, in sklearn.tree._utils.safe_realloc\n",
      "MemoryError: could not allocate 46137344 bytes\n",
      "\n",
      "  FitFailedWarning)\n"
     ]
    },
    {
     "name": "stdout",
     "output_type": "stream",
     "text": [
      "[CV 3/5] END criterion=entropy, max_depth=50, n_estimators=1250; total time=11.0min\n"
     ]
    },
    {
     "name": "stderr",
     "output_type": "stream",
     "text": [
      "C:\\Users\\gjete\\Anaconda3\\envs\\PythonAdv\\lib\\site-packages\\sklearn\\model_selection\\_validation.py:614: FitFailedWarning: Estimator fit failed. The score on this train-test partition for these parameters will be set to nan. Details: \n",
      "Traceback (most recent call last):\n",
      "  File \"C:\\Users\\gjete\\Anaconda3\\envs\\PythonAdv\\lib\\site-packages\\sklearn\\model_selection\\_validation.py\", line 593, in _fit_and_score\n",
      "    estimator.fit(X_train, y_train, **fit_params)\n",
      "  File \"C:\\Users\\gjete\\Anaconda3\\envs\\PythonAdv\\lib\\site-packages\\sklearn\\ensemble\\_forest.py\", line 393, in fit\n",
      "    for i, t in enumerate(trees))\n",
      "  File \"C:\\Users\\gjete\\Anaconda3\\envs\\PythonAdv\\lib\\site-packages\\joblib\\parallel.py\", line 1044, in __call__\n",
      "    while self.dispatch_one_batch(iterator):\n",
      "  File \"C:\\Users\\gjete\\Anaconda3\\envs\\PythonAdv\\lib\\site-packages\\joblib\\parallel.py\", line 859, in dispatch_one_batch\n",
      "    self._dispatch(tasks)\n",
      "  File \"C:\\Users\\gjete\\Anaconda3\\envs\\PythonAdv\\lib\\site-packages\\joblib\\parallel.py\", line 777, in _dispatch\n",
      "    job = self._backend.apply_async(batch, callback=cb)\n",
      "  File \"C:\\Users\\gjete\\Anaconda3\\envs\\PythonAdv\\lib\\site-packages\\joblib\\_parallel_backends.py\", line 208, in apply_async\n",
      "    result = ImmediateResult(func)\n",
      "  File \"C:\\Users\\gjete\\Anaconda3\\envs\\PythonAdv\\lib\\site-packages\\joblib\\_parallel_backends.py\", line 572, in __init__\n",
      "    self.results = batch()\n",
      "  File \"C:\\Users\\gjete\\Anaconda3\\envs\\PythonAdv\\lib\\site-packages\\joblib\\parallel.py\", line 263, in __call__\n",
      "    for func, args, kwargs in self.items]\n",
      "  File \"C:\\Users\\gjete\\Anaconda3\\envs\\PythonAdv\\lib\\site-packages\\joblib\\parallel.py\", line 263, in <listcomp>\n",
      "    for func, args, kwargs in self.items]\n",
      "  File \"C:\\Users\\gjete\\Anaconda3\\envs\\PythonAdv\\lib\\site-packages\\sklearn\\utils\\fixes.py\", line 222, in __call__\n",
      "    return self.function(*args, **kwargs)\n",
      "  File \"C:\\Users\\gjete\\Anaconda3\\envs\\PythonAdv\\lib\\site-packages\\sklearn\\ensemble\\_forest.py\", line 169, in _parallel_build_trees\n",
      "    tree.fit(X, y, sample_weight=curr_sample_weight, check_input=False)\n",
      "  File \"C:\\Users\\gjete\\Anaconda3\\envs\\PythonAdv\\lib\\site-packages\\sklearn\\tree\\_classes.py\", line 902, in fit\n",
      "    X_idx_sorted=X_idx_sorted)\n",
      "  File \"C:\\Users\\gjete\\Anaconda3\\envs\\PythonAdv\\lib\\site-packages\\sklearn\\tree\\_classes.py\", line 389, in fit\n",
      "    builder.build(self.tree_, X, y, sample_weight)\n",
      "  File \"sklearn\\tree\\_tree.pyx\", line 136, in sklearn.tree._tree.DepthFirstTreeBuilder.build\n",
      "  File \"sklearn\\tree\\_tree.pyx\", line 233, in sklearn.tree._tree.DepthFirstTreeBuilder.build\n",
      "  File \"sklearn\\tree\\_tree.pyx\", line 734, in sklearn.tree._tree.Tree._add_node\n",
      "  File \"sklearn\\tree\\_tree.pyx\", line 706, in sklearn.tree._tree.Tree._resize_c\n",
      "  File \"sklearn\\tree\\_utils.pyx\", line 41, in sklearn.tree._utils.safe_realloc\n",
      "MemoryError: could not allocate 46137344 bytes\n",
      "\n",
      "  FitFailedWarning)\n"
     ]
    },
    {
     "name": "stdout",
     "output_type": "stream",
     "text": [
      "[CV 4/5] END criterion=entropy, max_depth=50, n_estimators=1250; total time=10.1min\n"
     ]
    },
    {
     "name": "stderr",
     "output_type": "stream",
     "text": [
      "C:\\Users\\gjete\\Anaconda3\\envs\\PythonAdv\\lib\\site-packages\\sklearn\\model_selection\\_validation.py:614: FitFailedWarning: Estimator fit failed. The score on this train-test partition for these parameters will be set to nan. Details: \n",
      "Traceback (most recent call last):\n",
      "  File \"C:\\Users\\gjete\\Anaconda3\\envs\\PythonAdv\\lib\\site-packages\\sklearn\\model_selection\\_validation.py\", line 593, in _fit_and_score\n",
      "    estimator.fit(X_train, y_train, **fit_params)\n",
      "  File \"C:\\Users\\gjete\\Anaconda3\\envs\\PythonAdv\\lib\\site-packages\\sklearn\\ensemble\\_forest.py\", line 393, in fit\n",
      "    for i, t in enumerate(trees))\n",
      "  File \"C:\\Users\\gjete\\Anaconda3\\envs\\PythonAdv\\lib\\site-packages\\joblib\\parallel.py\", line 1044, in __call__\n",
      "    while self.dispatch_one_batch(iterator):\n",
      "  File \"C:\\Users\\gjete\\Anaconda3\\envs\\PythonAdv\\lib\\site-packages\\joblib\\parallel.py\", line 859, in dispatch_one_batch\n",
      "    self._dispatch(tasks)\n",
      "  File \"C:\\Users\\gjete\\Anaconda3\\envs\\PythonAdv\\lib\\site-packages\\joblib\\parallel.py\", line 777, in _dispatch\n",
      "    job = self._backend.apply_async(batch, callback=cb)\n",
      "  File \"C:\\Users\\gjete\\Anaconda3\\envs\\PythonAdv\\lib\\site-packages\\joblib\\_parallel_backends.py\", line 208, in apply_async\n",
      "    result = ImmediateResult(func)\n",
      "  File \"C:\\Users\\gjete\\Anaconda3\\envs\\PythonAdv\\lib\\site-packages\\joblib\\_parallel_backends.py\", line 572, in __init__\n",
      "    self.results = batch()\n",
      "  File \"C:\\Users\\gjete\\Anaconda3\\envs\\PythonAdv\\lib\\site-packages\\joblib\\parallel.py\", line 263, in __call__\n",
      "    for func, args, kwargs in self.items]\n",
      "  File \"C:\\Users\\gjete\\Anaconda3\\envs\\PythonAdv\\lib\\site-packages\\joblib\\parallel.py\", line 263, in <listcomp>\n",
      "    for func, args, kwargs in self.items]\n",
      "  File \"C:\\Users\\gjete\\Anaconda3\\envs\\PythonAdv\\lib\\site-packages\\sklearn\\utils\\fixes.py\", line 222, in __call__\n",
      "    return self.function(*args, **kwargs)\n",
      "  File \"C:\\Users\\gjete\\Anaconda3\\envs\\PythonAdv\\lib\\site-packages\\sklearn\\ensemble\\_forest.py\", line 169, in _parallel_build_trees\n",
      "    tree.fit(X, y, sample_weight=curr_sample_weight, check_input=False)\n",
      "  File \"C:\\Users\\gjete\\Anaconda3\\envs\\PythonAdv\\lib\\site-packages\\sklearn\\tree\\_classes.py\", line 902, in fit\n",
      "    X_idx_sorted=X_idx_sorted)\n",
      "  File \"C:\\Users\\gjete\\Anaconda3\\envs\\PythonAdv\\lib\\site-packages\\sklearn\\tree\\_classes.py\", line 389, in fit\n",
      "    builder.build(self.tree_, X, y, sample_weight)\n",
      "  File \"sklearn\\tree\\_tree.pyx\", line 136, in sklearn.tree._tree.DepthFirstTreeBuilder.build\n",
      "  File \"sklearn\\tree\\_tree.pyx\", line 233, in sklearn.tree._tree.DepthFirstTreeBuilder.build\n",
      "  File \"sklearn\\tree\\_tree.pyx\", line 734, in sklearn.tree._tree.Tree._add_node\n",
      "  File \"sklearn\\tree\\_tree.pyx\", line 706, in sklearn.tree._tree.Tree._resize_c\n",
      "  File \"sklearn\\tree\\_utils.pyx\", line 41, in sklearn.tree._utils.safe_realloc\n",
      "MemoryError: could not allocate 46137344 bytes\n",
      "\n",
      "  FitFailedWarning)\n",
      "C:\\Users\\gjete\\Anaconda3\\envs\\PythonAdv\\lib\\site-packages\\sklearn\\model_selection\\_search.py:921: UserWarning: One or more of the test scores are non-finite: [0.         0.         0.         0.04823056 0.04849812 0.04888031\n",
      " 0.12168479 0.12179943        nan 0.         0.         0.\n",
      " 0.04674013 0.04704589 0.04773382 0.12126431 0.12157007        nan]\n",
      "  category=UserWarning\n"
     ]
    },
    {
     "name": "stdout",
     "output_type": "stream",
     "text": [
      "[CV 5/5] END criterion=entropy, max_depth=50, n_estimators=1250; total time= 7.6min\n"
     ]
    },
    {
     "data": {
      "text/plain": [
       "GridSearchCV(estimator=RandomForestClassifier(random_state=0),\n",
       "             param_grid={'criterion': ['gini', 'entropy'],\n",
       "                         'max_depth': [1, 10, 50],\n",
       "                         'n_estimators': [750, 1000, 1250]},\n",
       "             verbose=3)"
      ]
     },
     "execution_count": 30,
     "metadata": {},
     "output_type": "execute_result"
    }
   ],
   "source": [
    "# Train the model with GridSearch\n",
    "grid.fit(X_train_scaled, y_train)"
   ]
  },
  {
   "cell_type": "code",
   "execution_count": 31,
   "metadata": {},
   "outputs": [
    {
     "name": "stdout",
     "output_type": "stream",
     "text": [
      "{'criterion': 'gini', 'max_depth': 50, 'n_estimators': 1000}\n",
      "0.12179943118393961\n"
     ]
    }
   ],
   "source": [
    "print(grid.best_params_)\n",
    "print(grid.best_score_)"
   ]
  },
  {
   "cell_type": "code",
   "execution_count": 32,
   "metadata": {},
   "outputs": [],
   "source": [
    "predictions_grid = grid.predict(X_test_scaled)"
   ]
  },
  {
   "cell_type": "code",
   "execution_count": 33,
   "metadata": {},
   "outputs": [
    {
     "name": "stdout",
     "output_type": "stream",
     "text": [
      "Testing Data Score using Optimized Model: 0.11699661137863385\n"
     ]
    }
   ],
   "source": [
    "print(f\"Testing Data Score using Optimized Model: {grid.score(X_test_scaled, y_test)}\")"
   ]
  },
  {
   "cell_type": "code",
   "execution_count": null,
   "metadata": {},
   "outputs": [],
   "source": []
  }
 ],
 "metadata": {
  "kernelspec": {
   "display_name": "Python [conda env:PythonAdv]",
   "language": "python",
   "name": "conda-env-PythonAdv-py"
  },
  "language_info": {
   "codemirror_mode": {
    "name": "ipython",
    "version": 3
   },
   "file_extension": ".py",
   "mimetype": "text/x-python",
   "name": "python",
   "nbconvert_exporter": "python",
   "pygments_lexer": "ipython3",
   "version": "3.6.12"
  }
 },
 "nbformat": 4,
 "nbformat_minor": 2
}
